{
 "cells": [
  {
   "cell_type": "markdown",
   "metadata": {
    "id": "PTPZIuLZEJOy"
   },
   "source": [
    "## <p>For performing Employee turnover using machine learning I have used dataset from <a herf = \"https://www.kaggle.com/giripujar/hr-analytics\">kaggle</a>.Below is the brief description about data.</p>\n",
    "\n",
    "## Data Description:\n",
    "\n",
    "### This data is consist of 10 variables(columns) and 15,000 observation(rows).Each row represent a employee which has revelent values for each 10 variabales.More detail about columns is mentioned below:\n",
    "\n",
    "* <b>satisfaction_level (Numerical):</b> This column represents employee satisfaction level between 0 to 1 where 0 represents least and 1 represents high.\n",
    "* <b>last_evaluation (Numerical):</b> This column represents how much time since last evaluation of employee.</br>\n",
    "* <b>number_project (Numerical):</b> This column reprsents how much projects employee has done so far.</br>\n",
    "* <b>average_montly_hours (Numerical):</b> This column represents average monthly hours employee has spend in organization.</br>\n",
    "* <b>time_spend_company (Numerical):</b> This column represents how many years employee has spend in organization</br>\n",
    "* <b>Work_accident (Numerical):</b></b> This column represents while working whether they have any work accident or not where 1 means yes they have work accident and 0 means No they have not work accident.</br>\n",
    "* <b>promotion_last_5years (Numerical):</b> This column represents whether employee got any promotion or not in last 5 years where 0 means No they got no promotion in last 5 years and 1 means Yes they got promotion in last 5 years.</br>\n",
    "* <b>Department (Nominal Categorical):</b> This column represents in which department employee is/was working for example sales,IT,accounting etc. there are 10 total category or department exist in the column.</br>\n",
    "* <b>Salary (Ordinal Categorical):</b> This column repersents salary of employee whether it is hight,low or medium.</br>\n",
    "* <b>left (Numerical):</b> This column represents whether employee has left the organization or not where 0 means No employee has not left the organization and 1 means Yes employee has left the organization.</br>"
   ]
  },
  {
   "cell_type": "markdown",
   "metadata": {
    "id": "veo5WBDjEJOy"
   },
   "source": [
    "## First we will try to get some basic understanding of data by looking at each column"
   ]
  },
  {
   "cell_type": "code",
   "execution_count": 1,
   "metadata": {
    "id": "fYK6z3jlEJOy"
   },
   "outputs": [],
   "source": [
    "# Imporing required libraries for project\n",
    "\n",
    "import pandas as pd # for data manipluation\n",
    "import numpy as np  # for data calculations and statistical measurement\n",
    "import matplotlib.pyplot as plt #for ineractive visualization charts\n",
    "import seaborn as sns #for ineractive visualization charts\n",
    "%matplotlib inline \n",
    "import warnings  # For warnings\n",
    "warnings.filterwarnings(\"ignore\") # To ignore unwanted warnings"
   ]
  },
  {
   "cell_type": "code",
   "execution_count": 2,
   "metadata": {
    "id": "DPTSles3EJOz",
    "scrolled": false
   },
   "outputs": [],
   "source": [
    "# Reading Dataset and loading into variable\n",
    "\n",
    "employee_churn = pd.read_csv(\"HR_comma_sep.csv\")"
   ]
  },
  {
   "cell_type": "code",
   "execution_count": 3,
   "metadata": {
    "colab": {
     "base_uri": "https://localhost:8080/",
     "height": 75,
     "resources": {
      "http://localhost:8080/nbextensions/google.colab/files.js": {
       "data": "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",
       "headers": [
        [
         "content-type",
         "application/javascript"
        ]
       ],
       "ok": true,
       "status": 200,
       "status_text": "OK"
      }
     }
    },
    "id": "skHuvjAA1Gx7",
    "outputId": "25625e00-325a-4ad2-8d94-881ddee9c615"
   },
   "outputs": [],
   "source": [
    "# For reading data in googel colab\n",
    "\n",
    "#from google.colab import files\n",
    "#uploaded = files.upload()"
   ]
  },
  {
   "cell_type": "code",
   "execution_count": 4,
   "metadata": {
    "id": "Ki7cHyOk1ars"
   },
   "outputs": [],
   "source": [
    "# For reading data in googel colab\n",
    "\n",
    "#import io\n",
    "#employee_churn = pd.read_csv(io.BytesIO(uploaded['HR_comma_sep.csv']))\n"
   ]
  },
  {
   "cell_type": "code",
   "execution_count": 5,
   "metadata": {
    "colab": {
     "base_uri": "https://localhost:8080/"
    },
    "id": "l9dq9762EJO1",
    "outputId": "89845850-6a79-4a5a-bd02-063dc1211e32"
   },
   "outputs": [
    {
     "data": {
      "text/plain": [
       "(14999, 10)"
      ]
     },
     "execution_count": 5,
     "metadata": {},
     "output_type": "execute_result"
    }
   ],
   "source": [
    "# structer Of data\n",
    "employee_churn.shape"
   ]
  },
  {
   "cell_type": "code",
   "execution_count": 6,
   "metadata": {
    "colab": {
     "base_uri": "https://localhost:8080/"
    },
    "id": "wwr9-TqkEJO1",
    "outputId": "0befca80-9268-4eb4-9129-c71c56f5ebbc"
   },
   "outputs": [
    {
     "name": "stdout",
     "output_type": "stream",
     "text": [
      "<class 'pandas.core.frame.DataFrame'>\n",
      "RangeIndex: 14999 entries, 0 to 14998\n",
      "Data columns (total 10 columns):\n",
      "satisfaction_level       14999 non-null float64\n",
      "last_evaluation          14999 non-null float64\n",
      "number_project           14999 non-null int64\n",
      "average_montly_hours     14999 non-null int64\n",
      "time_spend_company       14999 non-null int64\n",
      "Work_accident            14999 non-null int64\n",
      "left                     14999 non-null int64\n",
      "promotion_last_5years    14999 non-null int64\n",
      "Department               14999 non-null object\n",
      "salary                   14999 non-null object\n",
      "dtypes: float64(2), int64(6), object(2)\n",
      "memory usage: 1.1+ MB\n"
     ]
    }
   ],
   "source": [
    "# Checking data type and null values for each column\n",
    "employee_churn.info()"
   ]
  },
  {
   "cell_type": "code",
   "execution_count": 7,
   "metadata": {
    "colab": {
     "base_uri": "https://localhost:8080/"
    },
    "id": "qg72-Mf02CuI",
    "outputId": "df74affa-2f0e-462a-8c3e-b08bbb724e7e"
   },
   "outputs": [
    {
     "data": {
      "text/plain": [
       "<bound method NDFrame.head of        satisfaction_level  last_evaluation  number_project  \\\n",
       "0                    0.38             0.53               2   \n",
       "1                    0.80             0.86               5   \n",
       "2                    0.11             0.88               7   \n",
       "3                    0.72             0.87               5   \n",
       "4                    0.37             0.52               2   \n",
       "...                   ...              ...             ...   \n",
       "14994                0.40             0.57               2   \n",
       "14995                0.37             0.48               2   \n",
       "14996                0.37             0.53               2   \n",
       "14997                0.11             0.96               6   \n",
       "14998                0.37             0.52               2   \n",
       "\n",
       "       average_montly_hours  time_spend_company  Work_accident  left  \\\n",
       "0                       157                   3              0     1   \n",
       "1                       262                   6              0     1   \n",
       "2                       272                   4              0     1   \n",
       "3                       223                   5              0     1   \n",
       "4                       159                   3              0     1   \n",
       "...                     ...                 ...            ...   ...   \n",
       "14994                   151                   3              0     1   \n",
       "14995                   160                   3              0     1   \n",
       "14996                   143                   3              0     1   \n",
       "14997                   280                   4              0     1   \n",
       "14998                   158                   3              0     1   \n",
       "\n",
       "       promotion_last_5years Department  salary  \n",
       "0                          0      sales     low  \n",
       "1                          0      sales  medium  \n",
       "2                          0      sales  medium  \n",
       "3                          0      sales     low  \n",
       "4                          0      sales     low  \n",
       "...                      ...        ...     ...  \n",
       "14994                      0    support     low  \n",
       "14995                      0    support     low  \n",
       "14996                      0    support     low  \n",
       "14997                      0    support     low  \n",
       "14998                      0    support     low  \n",
       "\n",
       "[14999 rows x 10 columns]>"
      ]
     },
     "execution_count": 7,
     "metadata": {},
     "output_type": "execute_result"
    }
   ],
   "source": [
    "employee_churn.head"
   ]
  },
  {
   "cell_type": "code",
   "execution_count": 8,
   "metadata": {
    "colab": {
     "base_uri": "https://localhost:8080/"
    },
    "id": "QMPDxZQ437_s",
    "outputId": "5efc3ae9-c6e0-494a-f69d-411286ce5db2"
   },
   "outputs": [
    {
     "data": {
      "text/plain": [
       "Index(['satisfaction_level', 'last_evaluation', 'number_project',\n",
       "       'average_montly_hours', 'time_spend_company', 'Work_accident', 'left',\n",
       "       'promotion_last_5years', 'Department', 'salary'],\n",
       "      dtype='object')"
      ]
     },
     "execution_count": 8,
     "metadata": {},
     "output_type": "execute_result"
    }
   ],
   "source": [
    "employee_churn.columns"
   ]
  },
  {
   "cell_type": "markdown",
   "metadata": {
    "id": "679n71N8EJO1"
   },
   "source": [
    "### Above output suggest us that there no null values in our dataset and data types are also correct for all columns"
   ]
  },
  {
   "cell_type": "code",
   "execution_count": 9,
   "metadata": {
    "colab": {
     "base_uri": "https://localhost:8080/",
     "height": 300
    },
    "id": "f7SIf4xTEJO1",
    "outputId": "fb6b4ff4-e6a2-4e7e-cb31-1ec39a2ddaeb",
    "scrolled": true
   },
   "outputs": [
    {
     "data": {
      "text/html": [
       "<div>\n",
       "<style scoped>\n",
       "    .dataframe tbody tr th:only-of-type {\n",
       "        vertical-align: middle;\n",
       "    }\n",
       "\n",
       "    .dataframe tbody tr th {\n",
       "        vertical-align: top;\n",
       "    }\n",
       "\n",
       "    .dataframe thead th {\n",
       "        text-align: right;\n",
       "    }\n",
       "</style>\n",
       "<table border=\"1\" class=\"dataframe\">\n",
       "  <thead>\n",
       "    <tr style=\"text-align: right;\">\n",
       "      <th></th>\n",
       "      <th>satisfaction_level</th>\n",
       "      <th>last_evaluation</th>\n",
       "      <th>number_project</th>\n",
       "      <th>average_montly_hours</th>\n",
       "      <th>time_spend_company</th>\n",
       "      <th>Work_accident</th>\n",
       "      <th>left</th>\n",
       "      <th>promotion_last_5years</th>\n",
       "    </tr>\n",
       "  </thead>\n",
       "  <tbody>\n",
       "    <tr>\n",
       "      <th>count</th>\n",
       "      <td>14999.000000</td>\n",
       "      <td>14999.000000</td>\n",
       "      <td>14999.000000</td>\n",
       "      <td>14999.000000</td>\n",
       "      <td>14999.000000</td>\n",
       "      <td>14999.000000</td>\n",
       "      <td>14999.000000</td>\n",
       "      <td>14999.000000</td>\n",
       "    </tr>\n",
       "    <tr>\n",
       "      <th>mean</th>\n",
       "      <td>0.612834</td>\n",
       "      <td>0.716102</td>\n",
       "      <td>3.803054</td>\n",
       "      <td>201.050337</td>\n",
       "      <td>3.498233</td>\n",
       "      <td>0.144610</td>\n",
       "      <td>0.238083</td>\n",
       "      <td>0.021268</td>\n",
       "    </tr>\n",
       "    <tr>\n",
       "      <th>std</th>\n",
       "      <td>0.248631</td>\n",
       "      <td>0.171169</td>\n",
       "      <td>1.232592</td>\n",
       "      <td>49.943099</td>\n",
       "      <td>1.460136</td>\n",
       "      <td>0.351719</td>\n",
       "      <td>0.425924</td>\n",
       "      <td>0.144281</td>\n",
       "    </tr>\n",
       "    <tr>\n",
       "      <th>min</th>\n",
       "      <td>0.090000</td>\n",
       "      <td>0.360000</td>\n",
       "      <td>2.000000</td>\n",
       "      <td>96.000000</td>\n",
       "      <td>2.000000</td>\n",
       "      <td>0.000000</td>\n",
       "      <td>0.000000</td>\n",
       "      <td>0.000000</td>\n",
       "    </tr>\n",
       "    <tr>\n",
       "      <th>25%</th>\n",
       "      <td>0.440000</td>\n",
       "      <td>0.560000</td>\n",
       "      <td>3.000000</td>\n",
       "      <td>156.000000</td>\n",
       "      <td>3.000000</td>\n",
       "      <td>0.000000</td>\n",
       "      <td>0.000000</td>\n",
       "      <td>0.000000</td>\n",
       "    </tr>\n",
       "    <tr>\n",
       "      <th>50%</th>\n",
       "      <td>0.640000</td>\n",
       "      <td>0.720000</td>\n",
       "      <td>4.000000</td>\n",
       "      <td>200.000000</td>\n",
       "      <td>3.000000</td>\n",
       "      <td>0.000000</td>\n",
       "      <td>0.000000</td>\n",
       "      <td>0.000000</td>\n",
       "    </tr>\n",
       "    <tr>\n",
       "      <th>75%</th>\n",
       "      <td>0.820000</td>\n",
       "      <td>0.870000</td>\n",
       "      <td>5.000000</td>\n",
       "      <td>245.000000</td>\n",
       "      <td>4.000000</td>\n",
       "      <td>0.000000</td>\n",
       "      <td>0.000000</td>\n",
       "      <td>0.000000</td>\n",
       "    </tr>\n",
       "    <tr>\n",
       "      <th>max</th>\n",
       "      <td>1.000000</td>\n",
       "      <td>1.000000</td>\n",
       "      <td>7.000000</td>\n",
       "      <td>310.000000</td>\n",
       "      <td>10.000000</td>\n",
       "      <td>1.000000</td>\n",
       "      <td>1.000000</td>\n",
       "      <td>1.000000</td>\n",
       "    </tr>\n",
       "  </tbody>\n",
       "</table>\n",
       "</div>"
      ],
      "text/plain": [
       "       satisfaction_level  last_evaluation  number_project  \\\n",
       "count        14999.000000     14999.000000    14999.000000   \n",
       "mean             0.612834         0.716102        3.803054   \n",
       "std              0.248631         0.171169        1.232592   \n",
       "min              0.090000         0.360000        2.000000   \n",
       "25%              0.440000         0.560000        3.000000   \n",
       "50%              0.640000         0.720000        4.000000   \n",
       "75%              0.820000         0.870000        5.000000   \n",
       "max              1.000000         1.000000        7.000000   \n",
       "\n",
       "       average_montly_hours  time_spend_company  Work_accident          left  \\\n",
       "count          14999.000000        14999.000000   14999.000000  14999.000000   \n",
       "mean             201.050337            3.498233       0.144610      0.238083   \n",
       "std               49.943099            1.460136       0.351719      0.425924   \n",
       "min               96.000000            2.000000       0.000000      0.000000   \n",
       "25%              156.000000            3.000000       0.000000      0.000000   \n",
       "50%              200.000000            3.000000       0.000000      0.000000   \n",
       "75%              245.000000            4.000000       0.000000      0.000000   \n",
       "max              310.000000           10.000000       1.000000      1.000000   \n",
       "\n",
       "       promotion_last_5years  \n",
       "count           14999.000000  \n",
       "mean                0.021268  \n",
       "std                 0.144281  \n",
       "min                 0.000000  \n",
       "25%                 0.000000  \n",
       "50%                 0.000000  \n",
       "75%                 0.000000  \n",
       "max                 1.000000  "
      ]
     },
     "execution_count": 9,
     "metadata": {},
     "output_type": "execute_result"
    }
   ],
   "source": [
    "# printing summary for numerical columns\n",
    "employee_churn.describe()"
   ]
  },
  {
   "cell_type": "markdown",
   "metadata": {
    "id": "QPugbnRNEJO1"
   },
   "source": [
    "### We can see average statisfaction level of employees is 0.6128,average number of project done by eomployees is approximately 4,average monthly hours spend by employees is 201.0503 hours and on an average time spend in company by employees is approximately 4 years."
   ]
  },
  {
   "cell_type": "code",
   "execution_count": 10,
   "metadata": {
    "colab": {
     "base_uri": "https://localhost:8080/"
    },
    "id": "rxsEviidEJO1",
    "outputId": "c49706d3-1cc2-4ed9-a3fd-ae861f0380ac",
    "scrolled": true
   },
   "outputs": [
    {
     "name": "stdout",
     "output_type": "stream",
     "text": [
      "Department:\n",
      " sales          4140\n",
      "technical      2720\n",
      "support        2229\n",
      "IT             1227\n",
      "product_mng     902\n",
      "marketing       858\n",
      "RandD           787\n",
      "accounting      767\n",
      "hr              739\n",
      "management      630\n",
      "\n",
      "Salary:\n",
      " low       7316\n",
      "medium    6446\n",
      "high      1237\n"
     ]
    }
   ],
   "source": [
    "# printing catergorical columns unique values\n",
    "print(\"Department:\\n\",employee_churn['Department'].value_counts().to_string())\n",
    "print(\"\\nSalary:\\n\",employee_churn['salary'].value_counts().to_string())"
   ]
  },
  {
   "cell_type": "markdown",
   "metadata": {
    "id": "_AtSUtk6EJO1"
   },
   "source": [
    "### Out all 10 departments most number of employees are in sales where least  number of employees are in managment and salary columns suggest that from given data most of employees salary is low."
   ]
  },
  {
   "cell_type": "markdown",
   "metadata": {
    "id": "GnE6u7HaEJO1"
   },
   "source": [
    "\n",
    "\n",
    "## Now we will try to explore data by grouping different column with our target column 'left'  and categorical column in order to generate some insight"
   ]
  },
  {
   "cell_type": "code",
   "execution_count": 11,
   "metadata": {
    "colab": {
     "base_uri": "https://localhost:8080/"
    },
    "id": "c154TPmwEJO1",
    "outputId": "767b9856-d6f6-41b7-f2fc-579c499fdab0"
   },
   "outputs": [
    {
     "name": "stdout",
     "output_type": "stream",
     "text": [
      "Employee Distribution:\n",
      " 0    11428\n",
      "1     3571\n",
      "Name: left, dtype: int64\n"
     ]
    }
   ],
   "source": [
    "# Printing number of churn and non-churn employees\n",
    "print( \"Employee Distribution:\\n\",employee_churn['left'].value_counts())"
   ]
  },
  {
   "cell_type": "code",
   "execution_count": 12,
   "metadata": {
    "colab": {
     "base_uri": "https://localhost:8080/",
     "height": 401
    },
    "id": "Fwbj0l_VEJO2",
    "outputId": "75ee6fdd-a00c-486e-da64-85503230d54e"
   },
   "outputs": [
    {
     "data": {
      "text/plain": [
       "<seaborn.axisgrid.FacetGrid at 0x1a99233f5c8>"
      ]
     },
     "execution_count": 12,
     "metadata": {},
     "output_type": "execute_result"
    },
    {
     "data": {
      "image/png": "[encoded data removed]",
      "text/plain": [
       "<Figure size 360x360 with 1 Axes>"
      ]
     },
     "metadata": {
      "needs_background": "light"
     },
     "output_type": "display_data"
    }
   ],
   "source": [
    "#visualizing Employee Distribution\n",
    "sns.catplot(data=employee_churn,x='left',kind=\"count\")"
   ]
  },
  {
   "cell_type": "markdown",
   "metadata": {
    "id": "l5YhuELBEJO2"
   },
   "source": [
    "## Above result tell us that 3571 employees has left and 11428 employees has stayed."
   ]
  },
  {
   "cell_type": "code",
   "execution_count": 13,
   "metadata": {
    "colab": {
     "base_uri": "https://localhost:8080/"
    },
    "id": "S28bQnBxEJO2",
    "outputId": "c330443d-8304-4ae0-f55f-a01e29287a9e"
   },
   "outputs": [
    {
     "name": "stdout",
     "output_type": "stream",
     "text": [
      "Left Vs all numeric variable:\n",
      "\n",
      "       satisfaction_level  last_evaluation  number_project  \\\n",
      "left                                                        \n",
      "0               0.666810         0.715473        3.786664   \n",
      "1               0.440098         0.718113        3.855503   \n",
      "\n",
      "      average_montly_hours  time_spend_company  Work_accident  \\\n",
      "left                                                            \n",
      "0               199.060203            3.380032       0.175009   \n",
      "1               207.419210            3.876505       0.047326   \n",
      "\n",
      "      promotion_last_5years  \n",
      "left                         \n",
      "0                  0.026251  \n",
      "1                  0.005321  \n"
     ]
    }
   ],
   "source": [
    "#Printing all numeric variable and comparing them with our target variable\n",
    "print('Left Vs all numeric variable:\\n\\n',employee_churn.groupby('left').mean())"
   ]
  },
  {
   "cell_type": "markdown",
   "metadata": {
    "id": "ggel32lLEJO3"
   },
   "source": [
    "## Form the above numbers we interpret that:\n",
    "\n",
    "* The people who have low statisfaction level are leaving the company more and people with high staisfaction level are staying.\n",
    "* The people who have less salary are leaving the company more and people with more salary are staying.\n",
    "* The people who have low promotion rate are leaving the company more and people with high promotion rate are staying.\n",
    "* The people who have worked more are leaving the company more and people who have worked less are staying.\n",
    "### This all points makes sense with the reality."
   ]
  },
  {
   "cell_type": "code",
   "execution_count": 14,
   "metadata": {
    "colab": {
     "base_uri": "https://localhost:8080/"
    },
    "id": "pDhtB-OMEJO3",
    "outputId": "9c4ee585-efe2-4b58-9103-f39688ba52f2"
   },
   "outputs": [
    {
     "name": "stdout",
     "output_type": "stream",
     "text": [
      "Department Vs all numeric variable:\n",
      "\n",
      "              satisfaction_level  last_evaluation  number_project  \\\n",
      "Department                                                         \n",
      "IT                     0.618142         0.716830        3.816626   \n",
      "RandD                  0.619822         0.712122        3.853875   \n",
      "accounting             0.582151         0.717718        3.825293   \n",
      "hr                     0.598809         0.708850        3.654939   \n",
      "management             0.621349         0.724000        3.860317   \n",
      "marketing              0.618601         0.715886        3.687646   \n",
      "product_mng            0.619634         0.714756        3.807095   \n",
      "sales                  0.614447         0.709717        3.776329   \n",
      "support                0.618300         0.723109        3.803948   \n",
      "technical              0.607897         0.721099        3.877941   \n",
      "\n",
      "             average_montly_hours  time_spend_company  Work_accident  \\\n",
      "Department                                                             \n",
      "IT                     202.215974            3.468623       0.133659   \n",
      "RandD                  200.800508            3.367217       0.170267   \n",
      "accounting             201.162973            3.522816       0.125163   \n",
      "hr                     198.684709            3.355886       0.120433   \n",
      "management             201.249206            4.303175       0.163492   \n",
      "marketing              199.385781            3.569930       0.160839   \n",
      "product_mng            199.965632            3.475610       0.146341   \n",
      "sales                  200.911353            3.534058       0.141787   \n",
      "support                200.758188            3.393001       0.154778   \n",
      "technical              202.497426            3.411397       0.140074   \n",
      "\n",
      "                 left  promotion_last_5years  \n",
      "Department                                    \n",
      "IT           0.222494               0.002445  \n",
      "RandD        0.153748               0.034307  \n",
      "accounting   0.265971               0.018253  \n",
      "hr           0.290934               0.020298  \n",
      "management   0.144444               0.109524  \n",
      "marketing    0.236597               0.050117  \n",
      "product_mng  0.219512               0.000000  \n",
      "sales        0.244928               0.024155  \n",
      "support      0.248991               0.008973  \n",
      "technical    0.256250               0.010294  \n"
     ]
    }
   ],
   "source": [
    "# Printing all features with respect to different departments.\n",
    "print('Department Vs all numeric variable:\\n\\n',employee_churn.groupby('Department').mean())"
   ]
  },
  {
   "cell_type": "code",
   "execution_count": 15,
   "metadata": {
    "colab": {
     "base_uri": "https://localhost:8080/"
    },
    "id": "R_gWJsFkEJO3",
    "outputId": "d32940ca-86c1-4406-df1d-e1edf934d212"
   },
   "outputs": [
    {
     "name": "stdout",
     "output_type": "stream",
     "text": [
      "Salary Vs all numeric variable:\n",
      "\n",
      "         satisfaction_level  last_evaluation  number_project  \\\n",
      "salary                                                        \n",
      "high              0.637470         0.704325        3.767179   \n",
      "low               0.600753         0.717017        3.799891   \n",
      "medium            0.621817         0.717322        3.813528   \n",
      "\n",
      "        average_montly_hours  time_spend_company  Work_accident      left  \\\n",
      "salary                                                                      \n",
      "high              199.867421            3.692805       0.155214  0.066289   \n",
      "low               200.996583            3.438218       0.142154  0.296884   \n",
      "medium            201.338349            3.529010       0.145361  0.204313   \n",
      "\n",
      "        promotion_last_5years  \n",
      "salary                         \n",
      "high                 0.058205  \n",
      "low                  0.009021  \n",
      "medium               0.028079  \n"
     ]
    }
   ],
   "source": [
    "# Printing all columns in accordance with Salary column\n",
    "print('Salary Vs all numeric variable:\\n\\n',employee_churn.groupby('salary').mean())"
   ]
  },
  {
   "cell_type": "markdown",
   "metadata": {
    "id": "krd96iYCEJO3"
   },
   "source": [
    "## Data Visualization"
   ]
  },
  {
   "cell_type": "markdown",
   "metadata": {
    "id": "oqTKfAdBEJO3"
   },
   "source": [
    "## Ploting histogram of all continuous features "
   ]
  },
  {
   "cell_type": "code",
   "execution_count": 16,
   "metadata": {
    "colab": {
     "base_uri": "https://localhost:8080/",
     "height": 335
    },
    "id": "CkM3VA6wEJO3",
    "outputId": "97b4c10f-93c1-4a7f-e00d-e3ccfbed2e0d"
   },
   "outputs": [
    {
     "data": {
      "image/png": "[encoded data removed]",
      "text/plain": [
       "<Figure size 360x360 with 1 Axes>"
      ]
     },
     "metadata": {
      "needs_background": "light"
     },
     "output_type": "display_data"
    }
   ],
   "source": [
    "employee_churn[\"satisfaction_level\"].hist(bins=10, figsize=(5,5))\n",
    "plt.xlabel(\"satisfaction_level\")\n",
    "plt.show()\n"
   ]
  },
  {
   "cell_type": "code",
   "execution_count": 17,
   "metadata": {
    "colab": {
     "base_uri": "https://localhost:8080/",
     "height": 335
    },
    "id": "55fjMeg3EJO3",
    "outputId": "8858cbc6-055d-4dc9-cb24-3ccd31a12ed3"
   },
   "outputs": [
    {
     "data": {
      "image/png": "[encoded data removed]",
      "text/plain": [
       "<Figure size 360x360 with 1 Axes>"
      ]
     },
     "metadata": {
      "needs_background": "light"
     },
     "output_type": "display_data"
    }
   ],
   "source": [
    "employee_churn[\"last_evaluation\"].hist(bins=10, figsize=(5,5))\n",
    "plt.xlabel(\"last_evaluation\")\n",
    "plt.show()"
   ]
  },
  {
   "cell_type": "code",
   "execution_count": 18,
   "metadata": {
    "colab": {
     "base_uri": "https://localhost:8080/",
     "height": 335
    },
    "id": "oqILMyPvEJO3",
    "outputId": "ac2b3826-3eca-419d-9f8e-6765e9e9960f"
   },
   "outputs": [
    {
     "data": {
      "image/png": "[encoded data removed]",
      "text/plain": [
       "<Figure size 360x360 with 1 Axes>"
      ]
     },
     "metadata": {
      "needs_background": "light"
     },
     "output_type": "display_data"
    }
   ],
   "source": [
    "employee_churn[\"average_montly_hours\"].hist(bins=10, figsize=(5,5))\n",
    "plt.xlabel(\"average_montly_hours\")\n",
    "plt.show()"
   ]
  },
  {
   "cell_type": "markdown",
   "metadata": {
    "id": "Ew6FKsfpEJO3"
   },
   "source": [
    "### We can see the data distribution of the continoues features in the above plots and can say that our data is skewed."
   ]
  },
  {
   "cell_type": "markdown",
   "metadata": {
    "id": "DLUTFFJ2EJO3"
   },
   "source": [
    "## Data Visualization of all categorical features with respect to feature \"left\" that is we are checking that how the data is distributed if we compare it with the people who are leaving the company"
   ]
  },
  {
   "cell_type": "code",
   "execution_count": 19,
   "metadata": {
    "colab": {
     "base_uri": "https://localhost:8080/",
     "height": 1000
    },
    "id": "WoYfsJw_EJO3",
    "outputId": "277151a6-3e1a-453e-9146-0c0f0dc82d82"
   },
   "outputs": [
    {
     "data": {
      "image/png": "[encoded data removed]",
      "text/plain": [
       "<Figure size 1440x2160 with 6 Axes>"
      ]
     },
     "metadata": {
      "needs_background": "light"
     },
     "output_type": "display_data"
    }
   ],
   "source": [
    "#ploting all feature with respect to feature \"left\"\n",
    "\n",
    "columns=['number_project','time_spend_company','Work_accident', 'promotion_last_5years','Department','salary']\n",
    "fig=plt.subplots(figsize=(20,30))\n",
    "for i, j in enumerate(columns):\n",
    "    plt.subplot(4, 2, i+1)\n",
    "    plt.subplots_adjust(hspace = 1.0)\n",
    "    sns.countplot(x=j,data = employee_churn, hue='left')\n",
    "    plt.xticks(rotation=90)\n",
    "    plt.title(\"No. of employee\")"
   ]
  },
  {
   "cell_type": "markdown",
   "metadata": {
    "id": "DczQ03CYeYKU"
   },
   "source": [
    "### The above plot shows us few important observations\n",
    "\n",
    "*   Department as people say that sales people do often change their job frequently, also technical, support, IT can be considered as technology oriented people also tends to change there job most of the time.\n",
    " and salary are the 2 most important features which affect in \n",
    "employee turnover. Thus these 2 feature can be play vital role in predicting the employee churn.\n",
    "*   Employee engagement is another critical factor to influence the employee to leave the company. Employees with 3-5 projects are less likely to leave the company. The employee with less and more number of projects are likely to leave.\n",
    "*   Promotion becomes the reason to leave or stay in the company as our data provides evidence to support our statement, people who had promoted in last 5 years stays in the company and the others tends to leave.\n",
    "*   Work accident is also important factor as we can see that people with work accident stays in the company.\n",
    "\n",
    "\n"
   ]
  },
  {
   "cell_type": "markdown",
   "metadata": {
    "id": "HxhM-WxD6Bdd"
   },
   "source": [
    "# Handling Categorical Features\n",
    "\n",
    "###### There is a need of handling categorical features as any machine learning model can only accepts numerical values and cannot take any objects. So there is a need to prepair our data into numerical form to feed into ML model.\n",
    "\n",
    "*   Department fearure will be handeled by One-Hot-Encoding also known as dummy variables as it is nominal categorical variable\n",
    "*   Salary feature being the ordinal categorical variable and needs to handeled by Ordinal Encoding which is also known as Lable Encoding. \n",
    "\n"
   ]
  },
  {
   "cell_type": "code",
   "execution_count": 20,
   "metadata": {
    "colab": {
     "base_uri": "https://localhost:8080/"
    },
    "id": "V7L8FHQgRjMe",
    "outputId": "56cb80d5-e774-49a6-f0ca-4c75ac5a414a"
   },
   "outputs": [
    {
     "data": {
      "text/plain": [
       "Index(['satisfaction_level', 'last_evaluation', 'number_project',\n",
       "       'average_montly_hours', 'time_spend_company', 'Work_accident', 'left',\n",
       "       'promotion_last_5years', 'salary', 'Department_IT', 'Department_RandD',\n",
       "       'Department_accounting', 'Department_hr', 'Department_management',\n",
       "       'Department_marketing', 'Department_product_mng', 'Department_sales',\n",
       "       'Department_support', 'Department_technical'],\n",
       "      dtype='object')"
      ]
     },
     "execution_count": 20,
     "metadata": {},
     "output_type": "execute_result"
    }
   ],
   "source": [
    "#We will convert Department fearure into numerical from by performing One-Hot-Encoding that is Dummy Variable.\n",
    "employee_churn = pd.get_dummies(employee_churn, columns=['Department'])\n",
    "employee_churn.columns\n"
   ]
  },
  {
   "cell_type": "code",
   "execution_count": 21,
   "metadata": {
    "colab": {
     "base_uri": "https://localhost:8080/",
     "height": 226
    },
    "id": "aw9uPFKMOcxi",
    "outputId": "efb98afb-59e1-47ab-b626-babd9a1c0a55"
   },
   "outputs": [
    {
     "data": {
      "text/html": [
       "<div>\n",
       "<style scoped>\n",
       "    .dataframe tbody tr th:only-of-type {\n",
       "        vertical-align: middle;\n",
       "    }\n",
       "\n",
       "    .dataframe tbody tr th {\n",
       "        vertical-align: top;\n",
       "    }\n",
       "\n",
       "    .dataframe thead th {\n",
       "        text-align: right;\n",
       "    }\n",
       "</style>\n",
       "<table border=\"1\" class=\"dataframe\">\n",
       "  <thead>\n",
       "    <tr style=\"text-align: right;\">\n",
       "      <th></th>\n",
       "      <th>satisfaction_level</th>\n",
       "      <th>last_evaluation</th>\n",
       "      <th>number_project</th>\n",
       "      <th>average_montly_hours</th>\n",
       "      <th>time_spend_company</th>\n",
       "      <th>Work_accident</th>\n",
       "      <th>left</th>\n",
       "      <th>promotion_last_5years</th>\n",
       "      <th>salary</th>\n",
       "      <th>Department_IT</th>\n",
       "      <th>Department_RandD</th>\n",
       "      <th>Department_accounting</th>\n",
       "      <th>Department_hr</th>\n",
       "      <th>Department_management</th>\n",
       "      <th>Department_marketing</th>\n",
       "      <th>Department_product_mng</th>\n",
       "      <th>Department_sales</th>\n",
       "      <th>Department_support</th>\n",
       "      <th>Department_technical</th>\n",
       "    </tr>\n",
       "  </thead>\n",
       "  <tbody>\n",
       "    <tr>\n",
       "      <th>0</th>\n",
       "      <td>0.38</td>\n",
       "      <td>0.53</td>\n",
       "      <td>2</td>\n",
       "      <td>157</td>\n",
       "      <td>3</td>\n",
       "      <td>0</td>\n",
       "      <td>1</td>\n",
       "      <td>0</td>\n",
       "      <td>low</td>\n",
       "      <td>0</td>\n",
       "      <td>0</td>\n",
       "      <td>0</td>\n",
       "      <td>0</td>\n",
       "      <td>0</td>\n",
       "      <td>0</td>\n",
       "      <td>0</td>\n",
       "      <td>1</td>\n",
       "      <td>0</td>\n",
       "      <td>0</td>\n",
       "    </tr>\n",
       "    <tr>\n",
       "      <th>1</th>\n",
       "      <td>0.80</td>\n",
       "      <td>0.86</td>\n",
       "      <td>5</td>\n",
       "      <td>262</td>\n",
       "      <td>6</td>\n",
       "      <td>0</td>\n",
       "      <td>1</td>\n",
       "      <td>0</td>\n",
       "      <td>medium</td>\n",
       "      <td>0</td>\n",
       "      <td>0</td>\n",
       "      <td>0</td>\n",
       "      <td>0</td>\n",
       "      <td>0</td>\n",
       "      <td>0</td>\n",
       "      <td>0</td>\n",
       "      <td>1</td>\n",
       "      <td>0</td>\n",
       "      <td>0</td>\n",
       "    </tr>\n",
       "    <tr>\n",
       "      <th>2</th>\n",
       "      <td>0.11</td>\n",
       "      <td>0.88</td>\n",
       "      <td>7</td>\n",
       "      <td>272</td>\n",
       "      <td>4</td>\n",
       "      <td>0</td>\n",
       "      <td>1</td>\n",
       "      <td>0</td>\n",
       "      <td>medium</td>\n",
       "      <td>0</td>\n",
       "      <td>0</td>\n",
       "      <td>0</td>\n",
       "      <td>0</td>\n",
       "      <td>0</td>\n",
       "      <td>0</td>\n",
       "      <td>0</td>\n",
       "      <td>1</td>\n",
       "      <td>0</td>\n",
       "      <td>0</td>\n",
       "    </tr>\n",
       "    <tr>\n",
       "      <th>3</th>\n",
       "      <td>0.72</td>\n",
       "      <td>0.87</td>\n",
       "      <td>5</td>\n",
       "      <td>223</td>\n",
       "      <td>5</td>\n",
       "      <td>0</td>\n",
       "      <td>1</td>\n",
       "      <td>0</td>\n",
       "      <td>low</td>\n",
       "      <td>0</td>\n",
       "      <td>0</td>\n",
       "      <td>0</td>\n",
       "      <td>0</td>\n",
       "      <td>0</td>\n",
       "      <td>0</td>\n",
       "      <td>0</td>\n",
       "      <td>1</td>\n",
       "      <td>0</td>\n",
       "      <td>0</td>\n",
       "    </tr>\n",
       "    <tr>\n",
       "      <th>4</th>\n",
       "      <td>0.37</td>\n",
       "      <td>0.52</td>\n",
       "      <td>2</td>\n",
       "      <td>159</td>\n",
       "      <td>3</td>\n",
       "      <td>0</td>\n",
       "      <td>1</td>\n",
       "      <td>0</td>\n",
       "      <td>low</td>\n",
       "      <td>0</td>\n",
       "      <td>0</td>\n",
       "      <td>0</td>\n",
       "      <td>0</td>\n",
       "      <td>0</td>\n",
       "      <td>0</td>\n",
       "      <td>0</td>\n",
       "      <td>1</td>\n",
       "      <td>0</td>\n",
       "      <td>0</td>\n",
       "    </tr>\n",
       "  </tbody>\n",
       "</table>\n",
       "</div>"
      ],
      "text/plain": [
       "   satisfaction_level  last_evaluation  number_project  average_montly_hours  \\\n",
       "0                0.38             0.53               2                   157   \n",
       "1                0.80             0.86               5                   262   \n",
       "2                0.11             0.88               7                   272   \n",
       "3                0.72             0.87               5                   223   \n",
       "4                0.37             0.52               2                   159   \n",
       "\n",
       "   time_spend_company  Work_accident  left  promotion_last_5years  salary  \\\n",
       "0                   3              0     1                      0     low   \n",
       "1                   6              0     1                      0  medium   \n",
       "2                   4              0     1                      0  medium   \n",
       "3                   5              0     1                      0     low   \n",
       "4                   3              0     1                      0     low   \n",
       "\n",
       "   Department_IT  Department_RandD  Department_accounting  Department_hr  \\\n",
       "0              0                 0                      0              0   \n",
       "1              0                 0                      0              0   \n",
       "2              0                 0                      0              0   \n",
       "3              0                 0                      0              0   \n",
       "4              0                 0                      0              0   \n",
       "\n",
       "   Department_management  Department_marketing  Department_product_mng  \\\n",
       "0                      0                     0                       0   \n",
       "1                      0                     0                       0   \n",
       "2                      0                     0                       0   \n",
       "3                      0                     0                       0   \n",
       "4                      0                     0                       0   \n",
       "\n",
       "   Department_sales  Department_support  Department_technical  \n",
       "0                 1                   0                     0  \n",
       "1                 1                   0                     0  \n",
       "2                 1                   0                     0  \n",
       "3                 1                   0                     0  \n",
       "4                 1                   0                     0  "
      ]
     },
     "execution_count": 21,
     "metadata": {},
     "output_type": "execute_result"
    }
   ],
   "source": [
    "employee_churn.head()"
   ]
  },
  {
   "cell_type": "code",
   "execution_count": 22,
   "metadata": {
    "colab": {
     "base_uri": "https://localhost:8080/"
    },
    "id": "2SqbGxbwRjPp",
    "outputId": "44e8565a-f640-41e5-b92f-91304bfdabb7"
   },
   "outputs": [
    {
     "data": {
      "text/plain": [
       "3    7316\n",
       "2    6446\n",
       "1    1237\n",
       "Name: salary_numeric, dtype: int64"
      ]
     },
     "execution_count": 22,
     "metadata": {},
     "output_type": "execute_result"
    }
   ],
   "source": [
    "# We will convert salary freature to numerical data by just adding a feature in the data frame and mapping salary to it.\n",
    "# Where we will use 1 as high, 2 as medium, 3 as low in salary feature.\n",
    "salary_map = {'low':3,\n",
    "              'medium':2,\n",
    "              'high':1\n",
    "              }\n",
    "        \n",
    "employee_churn['salary_numeric'] = employee_churn.salary.map(salary_map)\n",
    "\n",
    "employee_churn['salary_numeric'].value_counts()"
   ]
  },
  {
   "cell_type": "markdown",
   "metadata": {
    "id": "cK76uPMNKzj4"
   },
   "source": [
    "###### We have tried Ordinal Encode technique from sklearn.preprocessing also but it does not work on 1D array hence we have to use mapping to convert the salary feature in to numeric form which also considered for ordinal encoading."
   ]
  },
  {
   "cell_type": "code",
   "execution_count": 23,
   "metadata": {
    "colab": {
     "base_uri": "https://localhost:8080/"
    },
    "id": "HqFgjiEtRjY_",
    "outputId": "e06402f5-484d-4dcc-b9cf-37e8c4d1ecbb"
   },
   "outputs": [
    {
     "data": {
      "text/plain": [
       "Index(['satisfaction_level', 'last_evaluation', 'number_project',\n",
       "       'average_montly_hours', 'time_spend_company', 'Work_accident', 'left',\n",
       "       'promotion_last_5years', 'salary', 'Department_IT', 'Department_RandD',\n",
       "       'Department_accounting', 'Department_hr', 'Department_management',\n",
       "       'Department_marketing', 'Department_product_mng', 'Department_sales',\n",
       "       'Department_support', 'Department_technical', 'salary_numeric'],\n",
       "      dtype='object')"
      ]
     },
     "execution_count": 23,
     "metadata": {},
     "output_type": "execute_result"
    }
   ],
   "source": [
    "#Checking the coloumn names.\n",
    "employee_churn.columns"
   ]
  },
  {
   "cell_type": "code",
   "execution_count": 24,
   "metadata": {
    "colab": {
     "base_uri": "https://localhost:8080/"
    },
    "id": "MKeFU-nHdjuB",
    "outputId": "f841d1fc-3e43-4768-effb-960f8175b1c8"
   },
   "outputs": [
    {
     "data": {
      "text/plain": [
       "Index(['satisfaction_level', 'last_evaluation', 'number_project',\n",
       "       'average_montly_hours', 'time_spend_company', 'Work_accident', 'left',\n",
       "       'promotion_last_5years', 'Department_IT', 'Department_RandD',\n",
       "       'Department_accounting', 'Department_hr', 'Department_management',\n",
       "       'Department_marketing', 'Department_product_mng', 'Department_sales',\n",
       "       'Department_support', 'Department_technical', 'salary_numeric'],\n",
       "      dtype='object')"
      ]
     },
     "execution_count": 24,
     "metadata": {},
     "output_type": "execute_result"
    }
   ],
   "source": [
    "#Dropping salary column as it is of no use as of now for modeling.\n",
    "employee_churn = employee_churn.drop(['salary'], axis=1)\n",
    "employee_churn.columns"
   ]
  },
  {
   "cell_type": "markdown",
   "metadata": {
    "id": "4V8DXE2fWwFO"
   },
   "source": [
    "#### Checking correlation between 'left' feature with respect to other features. "
   ]
  },
  {
   "cell_type": "code",
   "execution_count": 25,
   "metadata": {
    "colab": {
     "base_uri": "https://localhost:8080/",
     "height": 665
    },
    "id": "thRi092nRjcJ",
    "outputId": "8403245c-b119-4586-8ef2-6db2654c9922"
   },
   "outputs": [
    {
     "data": {
      "text/html": [
       "<div>\n",
       "<style scoped>\n",
       "    .dataframe tbody tr th:only-of-type {\n",
       "        vertical-align: middle;\n",
       "    }\n",
       "\n",
       "    .dataframe tbody tr th {\n",
       "        vertical-align: top;\n",
       "    }\n",
       "\n",
       "    .dataframe thead th {\n",
       "        text-align: right;\n",
       "    }\n",
       "</style>\n",
       "<table border=\"1\" class=\"dataframe\">\n",
       "  <thead>\n",
       "    <tr style=\"text-align: right;\">\n",
       "      <th></th>\n",
       "      <th>satisfaction_level</th>\n",
       "      <th>last_evaluation</th>\n",
       "      <th>number_project</th>\n",
       "      <th>average_montly_hours</th>\n",
       "      <th>time_spend_company</th>\n",
       "      <th>Work_accident</th>\n",
       "      <th>left</th>\n",
       "      <th>promotion_last_5years</th>\n",
       "      <th>Department_IT</th>\n",
       "      <th>Department_RandD</th>\n",
       "      <th>Department_accounting</th>\n",
       "      <th>Department_hr</th>\n",
       "      <th>Department_management</th>\n",
       "      <th>Department_marketing</th>\n",
       "      <th>Department_product_mng</th>\n",
       "      <th>Department_sales</th>\n",
       "      <th>Department_support</th>\n",
       "      <th>Department_technical</th>\n",
       "      <th>salary_numeric</th>\n",
       "    </tr>\n",
       "  </thead>\n",
       "  <tbody>\n",
       "    <tr>\n",
       "      <th>satisfaction_level</th>\n",
       "      <td>1.000000</td>\n",
       "      <td>0.105021</td>\n",
       "      <td>-0.142970</td>\n",
       "      <td>-0.020048</td>\n",
       "      <td>-0.100866</td>\n",
       "      <td>0.058697</td>\n",
       "      <td>-0.388375</td>\n",
       "      <td>0.025605</td>\n",
       "      <td>0.006373</td>\n",
       "      <td>0.006615</td>\n",
       "      <td>-0.028649</td>\n",
       "      <td>-0.012841</td>\n",
       "      <td>0.007172</td>\n",
       "      <td>0.005715</td>\n",
       "      <td>0.006919</td>\n",
       "      <td>0.004007</td>\n",
       "      <td>0.009185</td>\n",
       "      <td>-0.009345</td>\n",
       "      <td>-0.050022</td>\n",
       "    </tr>\n",
       "    <tr>\n",
       "      <th>last_evaluation</th>\n",
       "      <td>0.105021</td>\n",
       "      <td>1.000000</td>\n",
       "      <td>0.349333</td>\n",
       "      <td>0.339742</td>\n",
       "      <td>0.131591</td>\n",
       "      <td>-0.007104</td>\n",
       "      <td>0.006567</td>\n",
       "      <td>-0.008684</td>\n",
       "      <td>0.001269</td>\n",
       "      <td>-0.005471</td>\n",
       "      <td>0.002193</td>\n",
       "      <td>-0.009645</td>\n",
       "      <td>0.009662</td>\n",
       "      <td>-0.000311</td>\n",
       "      <td>-0.001989</td>\n",
       "      <td>-0.023031</td>\n",
       "      <td>0.017104</td>\n",
       "      <td>0.013742</td>\n",
       "      <td>0.013002</td>\n",
       "    </tr>\n",
       "    <tr>\n",
       "      <th>number_project</th>\n",
       "      <td>-0.142970</td>\n",
       "      <td>0.349333</td>\n",
       "      <td>1.000000</td>\n",
       "      <td>0.417211</td>\n",
       "      <td>0.196786</td>\n",
       "      <td>-0.004741</td>\n",
       "      <td>0.023787</td>\n",
       "      <td>-0.006064</td>\n",
       "      <td>0.003287</td>\n",
       "      <td>0.009703</td>\n",
       "      <td>0.004189</td>\n",
       "      <td>-0.027356</td>\n",
       "      <td>0.009728</td>\n",
       "      <td>-0.023064</td>\n",
       "      <td>0.000829</td>\n",
       "      <td>-0.013388</td>\n",
       "      <td>0.000303</td>\n",
       "      <td>0.028596</td>\n",
       "      <td>0.001803</td>\n",
       "    </tr>\n",
       "    <tr>\n",
       "      <th>average_montly_hours</th>\n",
       "      <td>-0.020048</td>\n",
       "      <td>0.339742</td>\n",
       "      <td>0.417211</td>\n",
       "      <td>1.000000</td>\n",
       "      <td>0.127755</td>\n",
       "      <td>-0.010143</td>\n",
       "      <td>0.071287</td>\n",
       "      <td>-0.003544</td>\n",
       "      <td>0.006967</td>\n",
       "      <td>-0.001177</td>\n",
       "      <td>0.000524</td>\n",
       "      <td>-0.010783</td>\n",
       "      <td>0.000834</td>\n",
       "      <td>-0.008210</td>\n",
       "      <td>-0.005494</td>\n",
       "      <td>-0.001718</td>\n",
       "      <td>-0.002444</td>\n",
       "      <td>0.013638</td>\n",
       "      <td>0.002242</td>\n",
       "    </tr>\n",
       "    <tr>\n",
       "      <th>time_spend_company</th>\n",
       "      <td>-0.100866</td>\n",
       "      <td>0.131591</td>\n",
       "      <td>0.196786</td>\n",
       "      <td>0.127755</td>\n",
       "      <td>1.000000</td>\n",
       "      <td>0.002120</td>\n",
       "      <td>0.144822</td>\n",
       "      <td>0.067433</td>\n",
       "      <td>-0.006053</td>\n",
       "      <td>-0.021116</td>\n",
       "      <td>0.003909</td>\n",
       "      <td>-0.022194</td>\n",
       "      <td>0.115436</td>\n",
       "      <td>0.012096</td>\n",
       "      <td>-0.003919</td>\n",
       "      <td>0.015150</td>\n",
       "      <td>-0.030111</td>\n",
       "      <td>-0.027991</td>\n",
       "      <td>-0.048715</td>\n",
       "    </tr>\n",
       "    <tr>\n",
       "      <th>Work_accident</th>\n",
       "      <td>0.058697</td>\n",
       "      <td>-0.007104</td>\n",
       "      <td>-0.004741</td>\n",
       "      <td>-0.010143</td>\n",
       "      <td>0.002120</td>\n",
       "      <td>1.000000</td>\n",
       "      <td>-0.154622</td>\n",
       "      <td>0.039245</td>\n",
       "      <td>-0.009293</td>\n",
       "      <td>0.017167</td>\n",
       "      <td>-0.012836</td>\n",
       "      <td>-0.015649</td>\n",
       "      <td>0.011242</td>\n",
       "      <td>0.011367</td>\n",
       "      <td>0.001246</td>\n",
       "      <td>-0.004955</td>\n",
       "      <td>0.012079</td>\n",
       "      <td>-0.006070</td>\n",
       "      <td>-0.009247</td>\n",
       "    </tr>\n",
       "    <tr>\n",
       "      <th>left</th>\n",
       "      <td>-0.388375</td>\n",
       "      <td>0.006567</td>\n",
       "      <td>0.023787</td>\n",
       "      <td>0.071287</td>\n",
       "      <td>0.144822</td>\n",
       "      <td>-0.154622</td>\n",
       "      <td>1.000000</td>\n",
       "      <td>-0.061788</td>\n",
       "      <td>-0.010925</td>\n",
       "      <td>-0.046596</td>\n",
       "      <td>0.015201</td>\n",
       "      <td>0.028249</td>\n",
       "      <td>-0.046035</td>\n",
       "      <td>-0.000859</td>\n",
       "      <td>-0.011029</td>\n",
       "      <td>0.009923</td>\n",
       "      <td>0.010700</td>\n",
       "      <td>0.020076</td>\n",
       "      <td>0.157898</td>\n",
       "    </tr>\n",
       "    <tr>\n",
       "      <th>promotion_last_5years</th>\n",
       "      <td>0.025605</td>\n",
       "      <td>-0.008684</td>\n",
       "      <td>-0.006064</td>\n",
       "      <td>-0.003544</td>\n",
       "      <td>0.067433</td>\n",
       "      <td>0.039245</td>\n",
       "      <td>-0.061788</td>\n",
       "      <td>1.000000</td>\n",
       "      <td>-0.038942</td>\n",
       "      <td>0.021268</td>\n",
       "      <td>-0.004852</td>\n",
       "      <td>-0.001531</td>\n",
       "      <td>0.128087</td>\n",
       "      <td>0.049253</td>\n",
       "      <td>-0.037288</td>\n",
       "      <td>0.012353</td>\n",
       "      <td>-0.035605</td>\n",
       "      <td>-0.035799</td>\n",
       "      <td>-0.098119</td>\n",
       "    </tr>\n",
       "    <tr>\n",
       "      <th>Department_IT</th>\n",
       "      <td>0.006373</td>\n",
       "      <td>0.001269</td>\n",
       "      <td>0.003287</td>\n",
       "      <td>0.006967</td>\n",
       "      <td>-0.006053</td>\n",
       "      <td>-0.009293</td>\n",
       "      <td>-0.010925</td>\n",
       "      <td>-0.038942</td>\n",
       "      <td>1.000000</td>\n",
       "      <td>-0.070240</td>\n",
       "      <td>-0.069293</td>\n",
       "      <td>-0.067949</td>\n",
       "      <td>-0.062500</td>\n",
       "      <td>-0.073524</td>\n",
       "      <td>-0.075503</td>\n",
       "      <td>-0.184302</td>\n",
       "      <td>-0.124705</td>\n",
       "      <td>-0.140484</td>\n",
       "      <td>0.010959</td>\n",
       "    </tr>\n",
       "    <tr>\n",
       "      <th>Department_RandD</th>\n",
       "      <td>0.006615</td>\n",
       "      <td>-0.005471</td>\n",
       "      <td>0.009703</td>\n",
       "      <td>-0.001177</td>\n",
       "      <td>-0.021116</td>\n",
       "      <td>0.017167</td>\n",
       "      <td>-0.046596</td>\n",
       "      <td>0.021268</td>\n",
       "      <td>-0.070240</td>\n",
       "      <td>1.000000</td>\n",
       "      <td>-0.054629</td>\n",
       "      <td>-0.053570</td>\n",
       "      <td>-0.049274</td>\n",
       "      <td>-0.057965</td>\n",
       "      <td>-0.059525</td>\n",
       "      <td>-0.145300</td>\n",
       "      <td>-0.098315</td>\n",
       "      <td>-0.110755</td>\n",
       "      <td>-0.002800</td>\n",
       "    </tr>\n",
       "    <tr>\n",
       "      <th>Department_accounting</th>\n",
       "      <td>-0.028649</td>\n",
       "      <td>0.002193</td>\n",
       "      <td>0.004189</td>\n",
       "      <td>0.000524</td>\n",
       "      <td>0.003909</td>\n",
       "      <td>-0.012836</td>\n",
       "      <td>0.015201</td>\n",
       "      <td>-0.004852</td>\n",
       "      <td>-0.069293</td>\n",
       "      <td>-0.054629</td>\n",
       "      <td>1.000000</td>\n",
       "      <td>-0.052848</td>\n",
       "      <td>-0.048610</td>\n",
       "      <td>-0.057183</td>\n",
       "      <td>-0.058723</td>\n",
       "      <td>-0.143341</td>\n",
       "      <td>-0.096989</td>\n",
       "      <td>-0.109262</td>\n",
       "      <td>-0.012759</td>\n",
       "    </tr>\n",
       "    <tr>\n",
       "      <th>Department_hr</th>\n",
       "      <td>-0.012841</td>\n",
       "      <td>-0.009645</td>\n",
       "      <td>-0.027356</td>\n",
       "      <td>-0.010783</td>\n",
       "      <td>-0.022194</td>\n",
       "      <td>-0.015649</td>\n",
       "      <td>0.028249</td>\n",
       "      <td>-0.001531</td>\n",
       "      <td>-0.067949</td>\n",
       "      <td>-0.053570</td>\n",
       "      <td>-0.052848</td>\n",
       "      <td>1.000000</td>\n",
       "      <td>-0.047667</td>\n",
       "      <td>-0.056075</td>\n",
       "      <td>-0.057584</td>\n",
       "      <td>-0.140562</td>\n",
       "      <td>-0.095109</td>\n",
       "      <td>-0.107143</td>\n",
       "      <td>-0.004599</td>\n",
       "    </tr>\n",
       "    <tr>\n",
       "      <th>Department_management</th>\n",
       "      <td>0.007172</td>\n",
       "      <td>0.009662</td>\n",
       "      <td>0.009728</td>\n",
       "      <td>0.000834</td>\n",
       "      <td>0.115436</td>\n",
       "      <td>0.011242</td>\n",
       "      <td>-0.046035</td>\n",
       "      <td>0.128087</td>\n",
       "      <td>-0.062500</td>\n",
       "      <td>-0.049274</td>\n",
       "      <td>-0.048610</td>\n",
       "      <td>-0.047667</td>\n",
       "      <td>1.000000</td>\n",
       "      <td>-0.051578</td>\n",
       "      <td>-0.052966</td>\n",
       "      <td>-0.129289</td>\n",
       "      <td>-0.087482</td>\n",
       "      <td>-0.098551</td>\n",
       "      <td>-0.156665</td>\n",
       "    </tr>\n",
       "    <tr>\n",
       "      <th>Department_marketing</th>\n",
       "      <td>0.005715</td>\n",
       "      <td>-0.000311</td>\n",
       "      <td>-0.023064</td>\n",
       "      <td>-0.008210</td>\n",
       "      <td>0.012096</td>\n",
       "      <td>0.011367</td>\n",
       "      <td>-0.000859</td>\n",
       "      <td>0.049253</td>\n",
       "      <td>-0.073524</td>\n",
       "      <td>-0.057965</td>\n",
       "      <td>-0.057183</td>\n",
       "      <td>-0.056075</td>\n",
       "      <td>-0.051578</td>\n",
       "      <td>1.000000</td>\n",
       "      <td>-0.062308</td>\n",
       "      <td>-0.152093</td>\n",
       "      <td>-0.102911</td>\n",
       "      <td>-0.115933</td>\n",
       "      <td>-0.011599</td>\n",
       "    </tr>\n",
       "    <tr>\n",
       "      <th>Department_product_mng</th>\n",
       "      <td>0.006919</td>\n",
       "      <td>-0.001989</td>\n",
       "      <td>0.000829</td>\n",
       "      <td>-0.005494</td>\n",
       "      <td>-0.003919</td>\n",
       "      <td>0.001246</td>\n",
       "      <td>-0.011029</td>\n",
       "      <td>-0.037288</td>\n",
       "      <td>-0.075503</td>\n",
       "      <td>-0.059525</td>\n",
       "      <td>-0.058723</td>\n",
       "      <td>-0.057584</td>\n",
       "      <td>-0.052966</td>\n",
       "      <td>-0.062308</td>\n",
       "      <td>1.000000</td>\n",
       "      <td>-0.156187</td>\n",
       "      <td>-0.105682</td>\n",
       "      <td>-0.119054</td>\n",
       "      <td>0.007669</td>\n",
       "    </tr>\n",
       "    <tr>\n",
       "      <th>Department_sales</th>\n",
       "      <td>0.004007</td>\n",
       "      <td>-0.023031</td>\n",
       "      <td>-0.013388</td>\n",
       "      <td>-0.001718</td>\n",
       "      <td>0.015150</td>\n",
       "      <td>-0.004955</td>\n",
       "      <td>0.009923</td>\n",
       "      <td>0.012353</td>\n",
       "      <td>-0.184302</td>\n",
       "      <td>-0.145300</td>\n",
       "      <td>-0.143341</td>\n",
       "      <td>-0.140562</td>\n",
       "      <td>-0.129289</td>\n",
       "      <td>-0.152093</td>\n",
       "      <td>-0.156187</td>\n",
       "      <td>1.000000</td>\n",
       "      <td>-0.257967</td>\n",
       "      <td>-0.290608</td>\n",
       "      <td>0.035599</td>\n",
       "    </tr>\n",
       "    <tr>\n",
       "      <th>Department_support</th>\n",
       "      <td>0.009185</td>\n",
       "      <td>0.017104</td>\n",
       "      <td>0.000303</td>\n",
       "      <td>-0.002444</td>\n",
       "      <td>-0.030111</td>\n",
       "      <td>0.012079</td>\n",
       "      <td>0.010700</td>\n",
       "      <td>-0.035605</td>\n",
       "      <td>-0.124705</td>\n",
       "      <td>-0.098315</td>\n",
       "      <td>-0.096989</td>\n",
       "      <td>-0.095109</td>\n",
       "      <td>-0.087482</td>\n",
       "      <td>-0.102911</td>\n",
       "      <td>-0.105682</td>\n",
       "      <td>-0.257967</td>\n",
       "      <td>1.000000</td>\n",
       "      <td>-0.196636</td>\n",
       "      <td>0.029888</td>\n",
       "    </tr>\n",
       "    <tr>\n",
       "      <th>Department_technical</th>\n",
       "      <td>-0.009345</td>\n",
       "      <td>0.013742</td>\n",
       "      <td>0.028596</td>\n",
       "      <td>0.013638</td>\n",
       "      <td>-0.027991</td>\n",
       "      <td>-0.006070</td>\n",
       "      <td>0.020076</td>\n",
       "      <td>-0.035799</td>\n",
       "      <td>-0.140484</td>\n",
       "      <td>-0.110755</td>\n",
       "      <td>-0.109262</td>\n",
       "      <td>-0.107143</td>\n",
       "      <td>-0.098551</td>\n",
       "      <td>-0.115933</td>\n",
       "      <td>-0.119054</td>\n",
       "      <td>-0.290608</td>\n",
       "      <td>-0.196636</td>\n",
       "      <td>1.000000</td>\n",
       "      <td>0.018630</td>\n",
       "    </tr>\n",
       "    <tr>\n",
       "      <th>salary_numeric</th>\n",
       "      <td>-0.050022</td>\n",
       "      <td>0.013002</td>\n",
       "      <td>0.001803</td>\n",
       "      <td>0.002242</td>\n",
       "      <td>-0.048715</td>\n",
       "      <td>-0.009247</td>\n",
       "      <td>0.157898</td>\n",
       "      <td>-0.098119</td>\n",
       "      <td>0.010959</td>\n",
       "      <td>-0.002800</td>\n",
       "      <td>-0.012759</td>\n",
       "      <td>-0.004599</td>\n",
       "      <td>-0.156665</td>\n",
       "      <td>-0.011599</td>\n",
       "      <td>0.007669</td>\n",
       "      <td>0.035599</td>\n",
       "      <td>0.029888</td>\n",
       "      <td>0.018630</td>\n",
       "      <td>1.000000</td>\n",
       "    </tr>\n",
       "  </tbody>\n",
       "</table>\n",
       "</div>"
      ],
      "text/plain": [
       "                        satisfaction_level  last_evaluation  number_project  \\\n",
       "satisfaction_level                1.000000         0.105021       -0.142970   \n",
       "last_evaluation                   0.105021         1.000000        0.349333   \n",
       "number_project                   -0.142970         0.349333        1.000000   \n",
       "average_montly_hours             -0.020048         0.339742        0.417211   \n",
       "time_spend_company               -0.100866         0.131591        0.196786   \n",
       "Work_accident                     0.058697        -0.007104       -0.004741   \n",
       "left                             -0.388375         0.006567        0.023787   \n",
       "promotion_last_5years             0.025605        -0.008684       -0.006064   \n",
       "Department_IT                     0.006373         0.001269        0.003287   \n",
       "Department_RandD                  0.006615        -0.005471        0.009703   \n",
       "Department_accounting            -0.028649         0.002193        0.004189   \n",
       "Department_hr                    -0.012841        -0.009645       -0.027356   \n",
       "Department_management             0.007172         0.009662        0.009728   \n",
       "Department_marketing              0.005715        -0.000311       -0.023064   \n",
       "Department_product_mng            0.006919        -0.001989        0.000829   \n",
       "Department_sales                  0.004007        -0.023031       -0.013388   \n",
       "Department_support                0.009185         0.017104        0.000303   \n",
       "Department_technical             -0.009345         0.013742        0.028596   \n",
       "salary_numeric                   -0.050022         0.013002        0.001803   \n",
       "\n",
       "                        average_montly_hours  time_spend_company  \\\n",
       "satisfaction_level                 -0.020048           -0.100866   \n",
       "last_evaluation                     0.339742            0.131591   \n",
       "number_project                      0.417211            0.196786   \n",
       "average_montly_hours                1.000000            0.127755   \n",
       "time_spend_company                  0.127755            1.000000   \n",
       "Work_accident                      -0.010143            0.002120   \n",
       "left                                0.071287            0.144822   \n",
       "promotion_last_5years              -0.003544            0.067433   \n",
       "Department_IT                       0.006967           -0.006053   \n",
       "Department_RandD                   -0.001177           -0.021116   \n",
       "Department_accounting               0.000524            0.003909   \n",
       "Department_hr                      -0.010783           -0.022194   \n",
       "Department_management               0.000834            0.115436   \n",
       "Department_marketing               -0.008210            0.012096   \n",
       "Department_product_mng             -0.005494           -0.003919   \n",
       "Department_sales                   -0.001718            0.015150   \n",
       "Department_support                 -0.002444           -0.030111   \n",
       "Department_technical                0.013638           -0.027991   \n",
       "salary_numeric                      0.002242           -0.048715   \n",
       "\n",
       "                        Work_accident      left  promotion_last_5years  \\\n",
       "satisfaction_level           0.058697 -0.388375               0.025605   \n",
       "last_evaluation             -0.007104  0.006567              -0.008684   \n",
       "number_project              -0.004741  0.023787              -0.006064   \n",
       "average_montly_hours        -0.010143  0.071287              -0.003544   \n",
       "time_spend_company           0.002120  0.144822               0.067433   \n",
       "Work_accident                1.000000 -0.154622               0.039245   \n",
       "left                        -0.154622  1.000000              -0.061788   \n",
       "promotion_last_5years        0.039245 -0.061788               1.000000   \n",
       "Department_IT               -0.009293 -0.010925              -0.038942   \n",
       "Department_RandD             0.017167 -0.046596               0.021268   \n",
       "Department_accounting       -0.012836  0.015201              -0.004852   \n",
       "Department_hr               -0.015649  0.028249              -0.001531   \n",
       "Department_management        0.011242 -0.046035               0.128087   \n",
       "Department_marketing         0.011367 -0.000859               0.049253   \n",
       "Department_product_mng       0.001246 -0.011029              -0.037288   \n",
       "Department_sales            -0.004955  0.009923               0.012353   \n",
       "Department_support           0.012079  0.010700              -0.035605   \n",
       "Department_technical        -0.006070  0.020076              -0.035799   \n",
       "salary_numeric              -0.009247  0.157898              -0.098119   \n",
       "\n",
       "                        Department_IT  Department_RandD  \\\n",
       "satisfaction_level           0.006373          0.006615   \n",
       "last_evaluation              0.001269         -0.005471   \n",
       "number_project               0.003287          0.009703   \n",
       "average_montly_hours         0.006967         -0.001177   \n",
       "time_spend_company          -0.006053         -0.021116   \n",
       "Work_accident               -0.009293          0.017167   \n",
       "left                        -0.010925         -0.046596   \n",
       "promotion_last_5years       -0.038942          0.021268   \n",
       "Department_IT                1.000000         -0.070240   \n",
       "Department_RandD            -0.070240          1.000000   \n",
       "Department_accounting       -0.069293         -0.054629   \n",
       "Department_hr               -0.067949         -0.053570   \n",
       "Department_management       -0.062500         -0.049274   \n",
       "Department_marketing        -0.073524         -0.057965   \n",
       "Department_product_mng      -0.075503         -0.059525   \n",
       "Department_sales            -0.184302         -0.145300   \n",
       "Department_support          -0.124705         -0.098315   \n",
       "Department_technical        -0.140484         -0.110755   \n",
       "salary_numeric               0.010959         -0.002800   \n",
       "\n",
       "                        Department_accounting  Department_hr  \\\n",
       "satisfaction_level                  -0.028649      -0.012841   \n",
       "last_evaluation                      0.002193      -0.009645   \n",
       "number_project                       0.004189      -0.027356   \n",
       "average_montly_hours                 0.000524      -0.010783   \n",
       "time_spend_company                   0.003909      -0.022194   \n",
       "Work_accident                       -0.012836      -0.015649   \n",
       "left                                 0.015201       0.028249   \n",
       "promotion_last_5years               -0.004852      -0.001531   \n",
       "Department_IT                       -0.069293      -0.067949   \n",
       "Department_RandD                    -0.054629      -0.053570   \n",
       "Department_accounting                1.000000      -0.052848   \n",
       "Department_hr                       -0.052848       1.000000   \n",
       "Department_management               -0.048610      -0.047667   \n",
       "Department_marketing                -0.057183      -0.056075   \n",
       "Department_product_mng              -0.058723      -0.057584   \n",
       "Department_sales                    -0.143341      -0.140562   \n",
       "Department_support                  -0.096989      -0.095109   \n",
       "Department_technical                -0.109262      -0.107143   \n",
       "salary_numeric                      -0.012759      -0.004599   \n",
       "\n",
       "                        Department_management  Department_marketing  \\\n",
       "satisfaction_level                   0.007172              0.005715   \n",
       "last_evaluation                      0.009662             -0.000311   \n",
       "number_project                       0.009728             -0.023064   \n",
       "average_montly_hours                 0.000834             -0.008210   \n",
       "time_spend_company                   0.115436              0.012096   \n",
       "Work_accident                        0.011242              0.011367   \n",
       "left                                -0.046035             -0.000859   \n",
       "promotion_last_5years                0.128087              0.049253   \n",
       "Department_IT                       -0.062500             -0.073524   \n",
       "Department_RandD                    -0.049274             -0.057965   \n",
       "Department_accounting               -0.048610             -0.057183   \n",
       "Department_hr                       -0.047667             -0.056075   \n",
       "Department_management                1.000000             -0.051578   \n",
       "Department_marketing                -0.051578              1.000000   \n",
       "Department_product_mng              -0.052966             -0.062308   \n",
       "Department_sales                    -0.129289             -0.152093   \n",
       "Department_support                  -0.087482             -0.102911   \n",
       "Department_technical                -0.098551             -0.115933   \n",
       "salary_numeric                      -0.156665             -0.011599   \n",
       "\n",
       "                        Department_product_mng  Department_sales  \\\n",
       "satisfaction_level                    0.006919          0.004007   \n",
       "last_evaluation                      -0.001989         -0.023031   \n",
       "number_project                        0.000829         -0.013388   \n",
       "average_montly_hours                 -0.005494         -0.001718   \n",
       "time_spend_company                   -0.003919          0.015150   \n",
       "Work_accident                         0.001246         -0.004955   \n",
       "left                                 -0.011029          0.009923   \n",
       "promotion_last_5years                -0.037288          0.012353   \n",
       "Department_IT                        -0.075503         -0.184302   \n",
       "Department_RandD                     -0.059525         -0.145300   \n",
       "Department_accounting                -0.058723         -0.143341   \n",
       "Department_hr                        -0.057584         -0.140562   \n",
       "Department_management                -0.052966         -0.129289   \n",
       "Department_marketing                 -0.062308         -0.152093   \n",
       "Department_product_mng                1.000000         -0.156187   \n",
       "Department_sales                     -0.156187          1.000000   \n",
       "Department_support                   -0.105682         -0.257967   \n",
       "Department_technical                 -0.119054         -0.290608   \n",
       "salary_numeric                        0.007669          0.035599   \n",
       "\n",
       "                        Department_support  Department_technical  \\\n",
       "satisfaction_level                0.009185             -0.009345   \n",
       "last_evaluation                   0.017104              0.013742   \n",
       "number_project                    0.000303              0.028596   \n",
       "average_montly_hours             -0.002444              0.013638   \n",
       "time_spend_company               -0.030111             -0.027991   \n",
       "Work_accident                     0.012079             -0.006070   \n",
       "left                              0.010700              0.020076   \n",
       "promotion_last_5years            -0.035605             -0.035799   \n",
       "Department_IT                    -0.124705             -0.140484   \n",
       "Department_RandD                 -0.098315             -0.110755   \n",
       "Department_accounting            -0.096989             -0.109262   \n",
       "Department_hr                    -0.095109             -0.107143   \n",
       "Department_management            -0.087482             -0.098551   \n",
       "Department_marketing             -0.102911             -0.115933   \n",
       "Department_product_mng           -0.105682             -0.119054   \n",
       "Department_sales                 -0.257967             -0.290608   \n",
       "Department_support                1.000000             -0.196636   \n",
       "Department_technical             -0.196636              1.000000   \n",
       "salary_numeric                    0.029888              0.018630   \n",
       "\n",
       "                        salary_numeric  \n",
       "satisfaction_level           -0.050022  \n",
       "last_evaluation               0.013002  \n",
       "number_project                0.001803  \n",
       "average_montly_hours          0.002242  \n",
       "time_spend_company           -0.048715  \n",
       "Work_accident                -0.009247  \n",
       "left                          0.157898  \n",
       "promotion_last_5years        -0.098119  \n",
       "Department_IT                 0.010959  \n",
       "Department_RandD             -0.002800  \n",
       "Department_accounting        -0.012759  \n",
       "Department_hr                -0.004599  \n",
       "Department_management        -0.156665  \n",
       "Department_marketing         -0.011599  \n",
       "Department_product_mng        0.007669  \n",
       "Department_sales              0.035599  \n",
       "Department_support            0.029888  \n",
       "Department_technical          0.018630  \n",
       "salary_numeric                1.000000  "
      ]
     },
     "execution_count": 25,
     "metadata": {},
     "output_type": "execute_result"
    }
   ],
   "source": [
    "data_corr = employee_churn.corr()\n",
    "data_corr"
   ]
  },
  {
   "cell_type": "markdown",
   "metadata": {
    "id": "JeHp7E6_qSf8"
   },
   "source": [
    "###### Our findings show us that there are certain features which are negatively correalted with the 'left' feature. Hence we have to eleminate those features as they are of no use for ML models as they will affect the results. \n",
    "\n",
    "###### Features that are positivly associated with feature 'left' are: 'last_evaluation', 'number_project', 'average_montly_hours', 'time_spend_company', 'Department_accounting', 'Department_hr', 'Department_sales', 'Department_support', 'Department_technical', 'salary_numeric'\n",
    "\n",
    "Hence we will use this features to predict which employees are leaving our company."
   ]
  },
  {
   "cell_type": "code",
   "execution_count": 26,
   "metadata": {
    "id": "0ispdMvUAq9O"
   },
   "outputs": [],
   "source": [
    "# Creating X1 as the input dataframe and y1 as output feature for our model.\n",
    "cols_corr=['last_evaluation', 'number_project', 'average_montly_hours', 'time_spend_company',\n",
    "           'Department_accounting', 'Department_hr', 'Department_sales', \n",
    "           'Department_support', 'Department_technical', 'salary_numeric'] \n",
    "X1=employee_churn[cols_corr]\n",
    "y1=employee_churn['left']"
   ]
  },
  {
   "cell_type": "markdown",
   "metadata": {
    "id": "1bAcgKzmHJqN"
   },
   "source": [
    "## Machine Learning Model Implementaion\n",
    " #### Implementing Logistic Regression to predict employee churn."
   ]
  },
  {
   "cell_type": "code",
   "execution_count": 27,
   "metadata": {
    "colab": {
     "base_uri": "https://localhost:8080/"
    },
    "id": "e8e7NJVBBbjH",
    "outputId": "8f716d31-d7ad-401c-a1a6-7b67a90a9084"
   },
   "outputs": [
    {
     "data": {
      "text/plain": [
       "LogisticRegression(C=1.0, class_weight=None, dual=False, fit_intercept=True,\n",
       "                   intercept_scaling=1, l1_ratio=None, max_iter=100,\n",
       "                   multi_class='auto', n_jobs=None, penalty='l2',\n",
       "                   random_state=None, solver='lbfgs', tol=0.0001, verbose=0,\n",
       "                   warm_start=False)"
      ]
     },
     "execution_count": 27,
     "metadata": {},
     "output_type": "execute_result"
    }
   ],
   "source": [
    "#Calling and importing the libraries to spilt the data into test and train\n",
    "from sklearn.model_selection import train_test_split\n",
    "X1_train, X1_test, y1_train, y1_test = train_test_split(X1, y1, test_size=0.3, random_state=0)\n",
    "\n",
    "#Calling and importing the libraries to fit the Logistic Regression model\n",
    "from sklearn.linear_model import LogisticRegression\n",
    "from sklearn import metrics\n",
    "logreg = LogisticRegression()\n",
    "logreg.fit(X1_train, y1_train)"
   ]
  },
  {
   "cell_type": "code",
   "execution_count": 28,
   "metadata": {
    "colab": {
     "base_uri": "https://localhost:8080/"
    },
    "id": "H2TKh1kGCI2e",
    "outputId": "6ca68f40-8292-4d2b-ce5e-2dcf66a08440"
   },
   "outputs": [
    {
     "name": "stdout",
     "output_type": "stream",
     "text": [
      "Logistic regression train accuracy: 0.744\n",
      "Logistic regression test accuracy: 0.745\n"
     ]
    }
   ],
   "source": [
    "# Checking accuracy on our test and train datasets\n",
    "from sklearn.metrics import accuracy_score\n",
    "print('Logistic regression train accuracy: {:.3f}'.format(accuracy_score(y1_train, logreg.predict(X1_train))))\n",
    "print('Logistic regression test accuracy: {:.3f}'.format(accuracy_score(y1_test, logreg.predict(X1_test))))"
   ]
  },
  {
   "cell_type": "markdown",
   "metadata": {
    "id": "o0Ab1fN5qeQE"
   },
   "source": [
    "###### Our baseline accuracy was 0.771 and we just got 0.745 in our model, so now we need to do some changes. May be we have choose wrong features manually.\n",
    "\n"
   ]
  },
  {
   "cell_type": "markdown",
   "metadata": {
    "id": "OEiWwYNhBZqM"
   },
   "source": [
    "\n",
    "###### To take care of eleminating these features and selecting the ones which really affect our output there is a process called Automatic feature selection."
   ]
  },
  {
   "cell_type": "markdown",
   "metadata": {
    "id": "a2DxUNDkrzh3"
   },
   "source": [
    "# Automatic Feature Selection\n",
    "\n",
    "###### We will be using one of the most frequently used technique that is called Recursive Feature Elimination (RFE). It works recursively by removing variables and building a model on the variables which are left in this process. It also uses the model accuracy to find which variables or combination of variables contribute the most to predicting the target attribute.\n",
    "\n",
    "###### When we have checked the correation in the above table and we fould that there are only 10 features positively associated with the feature 'left'. Hence we will ask our model to find 10 best features."
   ]
  },
  {
   "cell_type": "code",
   "execution_count": 29,
   "metadata": {
    "colab": {
     "base_uri": "https://localhost:8080/"
    },
    "id": "aqaaQwtexshs",
    "outputId": "036c789b-e68f-4dbf-cede-d6be2cfce464"
   },
   "outputs": [
    {
     "name": "stdout",
     "output_type": "stream",
     "text": [
      "y variable being our output variable \n",
      " ['left']\n",
      "X variable being our input dataframe \n",
      " ['satisfaction_level', 'last_evaluation', 'number_project', 'average_montly_hours', 'time_spend_company', 'Work_accident', 'promotion_last_5years', 'Department_IT', 'Department_RandD', 'Department_accounting', 'Department_hr', 'Department_management', 'Department_marketing', 'Department_product_mng', 'Department_sales', 'Department_support', 'Department_technical', 'salary_numeric']\n"
     ]
    }
   ],
   "source": [
    "# Creating X2 as the input dataframe and y2 as output feature for our REF model.\n",
    "employee_churn_vars=employee_churn.columns.values.tolist()\n",
    "y2=['left']\n",
    "X2=[i for i in employee_churn_vars if i not in y2]\n",
    "\n",
    "print('y variable being our output variable \\n', y2)\n",
    "print('X variable being our input dataframe \\n', X2)"
   ]
  },
  {
   "cell_type": "markdown",
   "metadata": {
    "id": "kCuudID9vcvj"
   },
   "source": [
    "###### Here we will again take 10 features out of 18 features available in our X, the way we choose 10 feature manually and check is there any difference in our prediction. "
   ]
  },
  {
   "cell_type": "code",
   "execution_count": 30,
   "metadata": {
    "colab": {
     "base_uri": "https://localhost:8080/"
    },
    "id": "H9kNWQ7CRjfj",
    "outputId": "6d833b7f-f82c-4578-cb98-5442ee337187"
   },
   "outputs": [
    {
     "name": "stdout",
     "output_type": "stream",
     "text": [
      "[ True  True  True False  True  True  True False  True False  True  True\n",
      " False False False False False  True]\n",
      "[1 1 1 9 1 1 1 2 1 6 1 1 7 3 8 5 4 1]\n"
     ]
    }
   ],
   "source": [
    "# Importing and calling Recursive Feature Elimination and Logistic Regression\n",
    "from sklearn.feature_selection import RFE \n",
    "from sklearn.linear_model import LogisticRegression\n",
    "lr = LogisticRegression()\n",
    "rfe = RFE(lr, 10)\n",
    "rfe = rfe.fit(employee_churn[X2], employee_churn[y2])\n",
    "print(rfe.support_)\n",
    "print(rfe.ranking_)"
   ]
  },
  {
   "cell_type": "markdown",
   "metadata": {
    "id": "QPzXQJSH8fyu"
   },
   "source": [
    "###### We can see that RFE chose the 10 variables for us, which are marked True in the support_ array and marked with a choice “1” in the ranking_array. They are:\n",
    "\n",
    "###### 'satisfaction_level', 'last_evaluation', 'number_project' 'time_spend_company', 'Work_accident', 'promotion_last_5years', 'Department_RandD', 'Department_hr', 'Department_management', 'salary_numeric'\n"
   ]
  },
  {
   "cell_type": "code",
   "execution_count": 31,
   "metadata": {
    "id": "sf0uGEn_5hhl"
   },
   "outputs": [],
   "source": [
    "# Creating X as the input dataframe and y as output feature for our REF model.\n",
    "cols_RFE=['satisfaction_level', 'last_evaluation', 'number_project', 'time_spend_company', \n",
    "          'Work_accident', 'promotion_last_5years', 'Department_RandD', \n",
    "          'Department_hr', 'Department_management', 'salary_numeric'] \n",
    "X = employee_churn[cols_RFE]\n",
    "y = employee_churn['left']"
   ]
  },
  {
   "cell_type": "markdown",
   "metadata": {
    "id": "2iJ3lLDzxIAf"
   },
   "source": [
    "## Implementing Logistic Regression ML model on feature selected by REF model to find employee churn"
   ]
  },
  {
   "cell_type": "code",
   "execution_count": 32,
   "metadata": {
    "colab": {
     "base_uri": "https://localhost:8080/"
    },
    "id": "PzJeGqBa5he0",
    "outputId": "b981aa83-c823-422d-a6c3-408656aa255b"
   },
   "outputs": [
    {
     "data": {
      "text/plain": [
       "LogisticRegression(C=1.0, class_weight=None, dual=False, fit_intercept=True,\n",
       "                   intercept_scaling=1, l1_ratio=None, max_iter=100,\n",
       "                   multi_class='auto', n_jobs=None, penalty='l2',\n",
       "                   random_state=None, solver='lbfgs', tol=0.0001, verbose=0,\n",
       "                   warm_start=False)"
      ]
     },
     "execution_count": 32,
     "metadata": {},
     "output_type": "execute_result"
    }
   ],
   "source": [
    "#Calling and importing the libraries to spilt the data into test and train\n",
    "from sklearn.model_selection import train_test_split\n",
    "X_train, X_test, y_train, y_test = train_test_split(X, y, test_size=0.3, random_state=0)\n",
    "\n",
    "#Calling and importing the libraries to fit the Logistic Regression model\n",
    "from sklearn.linear_model import LogisticRegression\n",
    "from sklearn import metrics\n",
    "logreg = LogisticRegression()\n",
    "logreg.fit(X_train, y_train)"
   ]
  },
  {
   "cell_type": "code",
   "execution_count": 33,
   "metadata": {
    "colab": {
     "base_uri": "https://localhost:8080/"
    },
    "id": "jxFglQ1g5hb9",
    "outputId": "48e68eff-f477-4431-e7ce-4de3e4b872c3"
   },
   "outputs": [
    {
     "name": "stdout",
     "output_type": "stream",
     "text": [
      "Logistic regression Train accuracy: 0.798\n",
      "Logistic regression Test accuracy: 0.804\n"
     ]
    }
   ],
   "source": [
    "# Checking accuracy on our test and train datasets\n",
    "from sklearn.metrics import accuracy_score\n",
    "print('Logistic regression Train accuracy: {:.3f}'.format(accuracy_score(y_train, logreg.predict(X_train))))\n",
    "print('Logistic regression Test accuracy: {:.3f}'.format(accuracy_score(y_test, logreg.predict(X_test))))"
   ]
  },
  {
   "cell_type": "markdown",
   "metadata": {
    "id": "tXrsHni2YHQc"
   },
   "source": [
    "###### Here we get more accuracy then our baseline accuracy, that is .804 which is actually more then the our pervious accuracy performed by the same logistic regression classifier using the featuers selected manually by checking the correlation table. So from here we will move ahead with the features selected by our REF model to work on other models."
   ]
  },
  {
   "cell_type": "markdown",
   "metadata": {
    "id": "8mfithOpytno"
   },
   "source": [
    "## Evaluating our Logistic Regression model by Precision and Recall and building Confusion Matrix"
   ]
  },
  {
   "cell_type": "code",
   "execution_count": 34,
   "metadata": {
    "colab": {
     "base_uri": "https://localhost:8080/"
    },
    "id": "yd-iOu_6yt5G",
    "outputId": "c7dddbe8-fbe8-4e7b-a48b-fcddc087753e"
   },
   "outputs": [
    {
     "name": "stdout",
     "output_type": "stream",
     "text": [
      "              precision    recall  f1-score   support\n",
      "\n",
      "           0       0.84      0.92      0.88      3462\n",
      "           1       0.61      0.40      0.49      1038\n",
      "\n",
      "    accuracy                           0.80      4500\n",
      "   macro avg       0.73      0.66      0.68      4500\n",
      "weighted avg       0.79      0.80      0.79      4500\n",
      "\n"
     ]
    }
   ],
   "source": [
    "# Printing Precision and Recall and f1-score for Logistic Regression model\n",
    "from sklearn.metrics import classification_report\n",
    "print(classification_report(y_test, logreg.predict(X_test)))"
   ]
  },
  {
   "cell_type": "markdown",
   "metadata": {
    "id": "VdsHs1sg0C7V"
   },
   "source": [
    "## Building Confusion Matrix for Logistic Regression model\n",
    "\n",
    "\n"
   ]
  },
  {
   "cell_type": "code",
   "execution_count": 35,
   "metadata": {
    "colab": {
     "base_uri": "https://localhost:8080/",
     "height": 295
    },
    "id": "yqhNMosIy9hX",
    "outputId": "7f5a73d1-d610-46f6-a2a8-1dd5cfec1a02"
   },
   "outputs": [
    {
     "data": {
      "image/png": "[encoded data removed]",
      "text/plain": [
       "<Figure size 432x288 with 2 Axes>"
      ]
     },
     "metadata": {
      "needs_background": "light"
     },
     "output_type": "display_data"
    }
   ],
   "source": [
    "#Plotting Confusion Matrix \n",
    "logreg_y_pred = logreg.predict(X_test)\n",
    "logreg_cm = metrics.confusion_matrix(logreg_y_pred, y_test, [1,0])\n",
    "sns.heatmap(logreg_cm, annot=True, fmt='.2f',xticklabels = [\"Left\", \"Stayed\"] , yticklabels = [\"Left\", \"Stayed\"] )\n",
    "plt.ylabel('True class')\n",
    "plt.xlabel('Predicted class')\n",
    "plt.title('Logistic Regression')\n",
    "plt.ylim([0,2]) # To plot heatmap appropiratly, if your heatmap plot propely then comment this line\n",
    "plt.savefig('logistic_regression')"
   ]
  },
  {
   "cell_type": "markdown",
   "metadata": {
    "id": "jEvJbGJpx5X5"
   },
   "source": [
    "## Implementing Random Forest Classifier ML model on feature selected by REF model to find employee churn"
   ]
  },
  {
   "cell_type": "code",
   "execution_count": 36,
   "metadata": {
    "colab": {
     "base_uri": "https://localhost:8080/"
    },
    "id": "DkqTrUcM5hZY",
    "outputId": "2203c457-5ed4-4371-fbd1-23a5aa47df9f"
   },
   "outputs": [
    {
     "data": {
      "text/plain": [
       "RandomForestClassifier(bootstrap=True, ccp_alpha=0.0, class_weight=None,\n",
       "                       criterion='gini', max_depth=None, max_features='auto',\n",
       "                       max_leaf_nodes=None, max_samples=None,\n",
       "                       min_impurity_decrease=0.0, min_impurity_split=None,\n",
       "                       min_samples_leaf=1, min_samples_split=2,\n",
       "                       min_weight_fraction_leaf=0.0, n_estimators=100,\n",
       "                       n_jobs=None, oob_score=False, random_state=None,\n",
       "                       verbose=0, warm_start=False)"
      ]
     },
     "execution_count": 36,
     "metadata": {},
     "output_type": "execute_result"
    }
   ],
   "source": [
    "#Calling and importing the libraries to fit the Random Forest Classifier model\n",
    "from sklearn.ensemble import RandomForestClassifier\n",
    "rf = RandomForestClassifier()\n",
    "rf.fit(X_train, y_train)"
   ]
  },
  {
   "cell_type": "code",
   "execution_count": 37,
   "metadata": {
    "colab": {
     "base_uri": "https://localhost:8080/"
    },
    "id": "BxDifqpM5hWB",
    "outputId": "eddef767-8b59-4987-8b3d-6d70ff543915"
   },
   "outputs": [
    {
     "name": "stdout",
     "output_type": "stream",
     "text": [
      "Random Forest Classifier Train accuracy: 0.999\n",
      "Random Forest Classifier Test accuracy: 0.988\n"
     ]
    }
   ],
   "source": [
    "# Checking accuracy on our test and train datasets\n",
    "from sklearn.metrics import accuracy_score\n",
    "print('Random Forest Classifier Train accuracy: {:.3f}'.format(accuracy_score(y_train, rf.predict(X_train))))\n",
    "print('Random Forest Classifier Test accuracy: {:.3f}'.format(accuracy_score(y_test, rf.predict(X_test))))"
   ]
  },
  {
   "cell_type": "markdown",
   "metadata": {
    "id": "vYS3zaX719d1"
   },
   "source": [
    "## Evaluating our Random Forest Classifier model by Precision and Recall and building Confusion Matrix"
   ]
  },
  {
   "cell_type": "code",
   "execution_count": 38,
   "metadata": {
    "colab": {
     "base_uri": "https://localhost:8080/"
    },
    "id": "Lje5bR0x3mrs",
    "outputId": "2cb980ac-6a00-4fd4-edec-2b17237c1ce2"
   },
   "outputs": [
    {
     "name": "stdout",
     "output_type": "stream",
     "text": [
      "              precision    recall  f1-score   support\n",
      "\n",
      "           0       0.99      0.99      0.99      3462\n",
      "           1       0.98      0.97      0.97      1038\n",
      "\n",
      "    accuracy                           0.99      4500\n",
      "   macro avg       0.99      0.98      0.98      4500\n",
      "weighted avg       0.99      0.99      0.99      4500\n",
      "\n"
     ]
    }
   ],
   "source": [
    "# Printing Precision and Recall and f1-score\n",
    "from sklearn.metrics import classification_report\n",
    "print(classification_report(y_test, rf.predict(X_test)))"
   ]
  },
  {
   "cell_type": "markdown",
   "metadata": {
    "id": "xMB6SKsq19Zv"
   },
   "source": [
    "## Building Confusion Matrix for Random Forest Classifier"
   ]
  },
  {
   "cell_type": "code",
   "execution_count": 39,
   "metadata": {
    "colab": {
     "base_uri": "https://localhost:8080/",
     "height": 295
    },
    "id": "9XsIYrbQ4aSf",
    "outputId": "6f74de05-c0bb-435c-efd8-e5ef4aa96184"
   },
   "outputs": [
    {
     "data": {
      "image/png": "[encoded data removed]",
      "text/plain": [
       "<Figure size 432x288 with 2 Axes>"
      ]
     },
     "metadata": {
      "needs_background": "light"
     },
     "output_type": "display_data"
    }
   ],
   "source": [
    "y_pred = rf.predict(X_test)\n",
    "from sklearn.metrics import confusion_matrix\n",
    "import seaborn as sns\n",
    "forest_cm = metrics.confusion_matrix(y_pred, y_test, [1,0])\n",
    "sns.heatmap(forest_cm, annot=True, fmt='.2f',xticklabels = [\"Left\", \"Stayed\"] , yticklabels = [\"Left\", \"Stayed\"] )\n",
    "plt.ylabel('True class')\n",
    "plt.xlabel('Predicted class')\n",
    "plt.title('Random Forest')\n",
    "plt.ylim([0,2]) # To plot heatmap appropiratly, if your heatmap plot propely then comment this line\n",
    "plt.savefig('random_forest')"
   ]
  },
  {
   "cell_type": "markdown",
   "metadata": {
    "id": "maRBRwoB19Vl"
   },
   "source": [
    "## Implementing Support Vector Machine ML model on feature selected by REF model to find employee churn"
   ]
  },
  {
   "cell_type": "code",
   "execution_count": 40,
   "metadata": {
    "colab": {
     "base_uri": "https://localhost:8080/"
    },
    "id": "zW5tlUQO5hJv",
    "outputId": "2aba2940-81bf-4157-fbf0-1148c9ccc953"
   },
   "outputs": [
    {
     "data": {
      "text/plain": [
       "SVC(C=1.0, break_ties=False, cache_size=200, class_weight=None, coef0=0.0,\n",
       "    decision_function_shape='ovr', degree=3, gamma='scale', kernel='rbf',\n",
       "    max_iter=-1, probability=False, random_state=None, shrinking=True,\n",
       "    tol=0.001, verbose=False)"
      ]
     },
     "execution_count": 40,
     "metadata": {},
     "output_type": "execute_result"
    }
   ],
   "source": [
    "#Calling and importing the libraries to fit the Support Vector Machine model\n",
    "from sklearn.svm import SVC\n",
    "svc = SVC()\n",
    "svc.fit(X_train, y_train)"
   ]
  },
  {
   "cell_type": "code",
   "execution_count": 41,
   "metadata": {
    "colab": {
     "base_uri": "https://localhost:8080/"
    },
    "id": "heoJW9bQ5hHF",
    "outputId": "b3297e7b-38f9-4780-e8b9-94cfa11bbf1a"
   },
   "outputs": [
    {
     "name": "stdout",
     "output_type": "stream",
     "text": [
      "Support Vector Machine Train accuracy: 0.923\n",
      "Support Vector Machine Test accuracy: 0.927\n"
     ]
    }
   ],
   "source": [
    "# Checking accuracy on our test and train datasets\n",
    "from sklearn.metrics import accuracy_score\n",
    "print('Support Vector Machine Train accuracy: {:.3f}'.format(accuracy_score(y_train, svc.predict(X_train))))\n",
    "print('Support Vector Machine Test accuracy: {:.3f}'.format(accuracy_score(y_test, svc.predict(X_test))))"
   ]
  },
  {
   "cell_type": "markdown",
   "metadata": {
    "id": "dqvDMlfI6oH9"
   },
   "source": [
    "## Evaluating our Support Vector Machine model by Precision and Recall and building Confusion Matrix"
   ]
  },
  {
   "cell_type": "code",
   "execution_count": 42,
   "metadata": {
    "colab": {
     "base_uri": "https://localhost:8080/"
    },
    "id": "-WK1iEYy5hDw",
    "outputId": "7019df0d-3289-41ab-f29e-ab68e20310f4"
   },
   "outputs": [
    {
     "name": "stdout",
     "output_type": "stream",
     "text": [
      "              precision    recall  f1-score   support\n",
      "\n",
      "           0       0.96      0.95      0.95      3462\n",
      "           1       0.83      0.86      0.84      1038\n",
      "\n",
      "    accuracy                           0.93      4500\n",
      "   macro avg       0.89      0.90      0.90      4500\n",
      "weighted avg       0.93      0.93      0.93      4500\n",
      "\n"
     ]
    }
   ],
   "source": [
    "print(classification_report(y_test, svc.predict(X_test)))"
   ]
  },
  {
   "cell_type": "markdown",
   "metadata": {
    "id": "_u3R5d697CN7"
   },
   "source": [
    "## Building Confusion Matrix for Support Vector Machine"
   ]
  },
  {
   "cell_type": "code",
   "execution_count": 43,
   "metadata": {
    "colab": {
     "base_uri": "https://localhost:8080/",
     "height": 295
    },
    "id": "fek6MbDn5hAj",
    "outputId": "3f6e8cd0-4c20-44a5-cdda-39d8c943da9e"
   },
   "outputs": [
    {
     "data": {
      "image/png": "[encoded data removed]",
      "text/plain": [
       "<Figure size 432x288 with 2 Axes>"
      ]
     },
     "metadata": {
      "needs_background": "light"
     },
     "output_type": "display_data"
    }
   ],
   "source": [
    "svc_y_pred = svc.predict(X_test)\n",
    "svc_cm = metrics.confusion_matrix(svc_y_pred, y_test, [1,0])\n",
    "sns.heatmap(svc_cm, annot=True, fmt='.2f',xticklabels = [\"Left\", \"Stayed\"] , yticklabels = [\"Left\", \"Stayed\"] )\n",
    "plt.ylabel('True class')\n",
    "plt.xlabel('Predicted class')\n",
    "plt.title('Support Vector Machine')\n",
    "plt.ylim([0,2]) # To plot heatmap appropiratly, if your heatmap plot propely then comment this line\n",
    "plt.savefig('support_vector_machine')"
   ]
  },
  {
   "cell_type": "markdown",
   "metadata": {
    "id": "OL1NUk5A8f1K"
   },
   "source": [
    "\n",
    "## Implementing Gradient Boosting Classifier ML model on feature selected by REF model to find employee churn"
   ]
  },
  {
   "cell_type": "code",
   "execution_count": 44,
   "metadata": {
    "colab": {
     "base_uri": "https://localhost:8080/"
    },
    "id": "WSthvpBw5g-F",
    "outputId": "22726226-bd05-4cd3-9ab9-d3d0ae88db4a"
   },
   "outputs": [
    {
     "data": {
      "text/plain": [
       "GradientBoostingClassifier(ccp_alpha=0.0, criterion='friedman_mse', init=None,\n",
       "                           learning_rate=0.1, loss='deviance', max_depth=3,\n",
       "                           max_features=None, max_leaf_nodes=None,\n",
       "                           min_impurity_decrease=0.0, min_impurity_split=None,\n",
       "                           min_samples_leaf=1, min_samples_split=2,\n",
       "                           min_weight_fraction_leaf=0.0, n_estimators=100,\n",
       "                           n_iter_no_change=None, presort='deprecated',\n",
       "                           random_state=None, subsample=1.0, tol=0.0001,\n",
       "                           validation_fraction=0.1, verbose=0,\n",
       "                           warm_start=False)"
      ]
     },
     "execution_count": 44,
     "metadata": {},
     "output_type": "execute_result"
    }
   ],
   "source": [
    "#Calling and importing the libraries to fit the Gradient Boosting Classifier model\n",
    "from sklearn.ensemble import GradientBoostingClassifier\n",
    "gb = GradientBoostingClassifier()\n",
    "gb.fit(X_train, y_train)"
   ]
  },
  {
   "cell_type": "code",
   "execution_count": 45,
   "metadata": {
    "colab": {
     "base_uri": "https://localhost:8080/"
    },
    "id": "CFN7sswp5g6b",
    "outputId": "c62bdf66-e4f4-4210-e88f-876e38a1703a"
   },
   "outputs": [
    {
     "name": "stdout",
     "output_type": "stream",
     "text": [
      "Gradient Boosting Classifier Train accuracy: 0.973\n",
      "Gradient Boosting Classifier Test accuracy: 0.973\n"
     ]
    }
   ],
   "source": [
    "# Checking accuracy on our test and train datasets\n",
    "from sklearn.metrics import accuracy_score\n",
    "print('Gradient Boosting Classifier Train accuracy: {:.3f}'.format(accuracy_score(y_train, gb.predict(X_train))))\n",
    "print('Gradient Boosting Classifier Test accuracy: {:.3f}'.format(accuracy_score(y_test, gb.predict(X_test))))"
   ]
  },
  {
   "cell_type": "markdown",
   "metadata": {
    "id": "jttsokCg9go8"
   },
   "source": [
    "## Evaluating our Gradient Boosting Classifier model by Precision and Recall and building Confusion Matrix"
   ]
  },
  {
   "cell_type": "code",
   "execution_count": 46,
   "metadata": {
    "colab": {
     "base_uri": "https://localhost:8080/"
    },
    "id": "U06S8Hrh5g2C",
    "outputId": "3757f8f3-b854-4be5-d69a-92932a0fb91c"
   },
   "outputs": [
    {
     "name": "stdout",
     "output_type": "stream",
     "text": [
      "              precision    recall  f1-score   support\n",
      "\n",
      "           0       0.98      0.99      0.98      3462\n",
      "           1       0.95      0.93      0.94      1038\n",
      "\n",
      "    accuracy                           0.97      4500\n",
      "   macro avg       0.97      0.96      0.96      4500\n",
      "weighted avg       0.97      0.97      0.97      4500\n",
      "\n"
     ]
    }
   ],
   "source": [
    "print(classification_report(y_test, gb.predict(X_test)))"
   ]
  },
  {
   "cell_type": "markdown",
   "metadata": {
    "id": "NJ7NlOD69sdm"
   },
   "source": [
    "## Building Confusion Matrix for Gradient Boosting Classifier\n",
    "\n",
    "\n"
   ]
  },
  {
   "cell_type": "code",
   "execution_count": 47,
   "metadata": {
    "colab": {
     "base_uri": "https://localhost:8080/",
     "height": 295
    },
    "id": "OSuLueMB5gyG",
    "outputId": "69c53e0b-ce93-4548-a45e-3996c67d636e"
   },
   "outputs": [
    {
     "data": {
      "image/png": "[encoded data removed]",
      "text/plain": [
       "<Figure size 432x288 with 2 Axes>"
      ]
     },
     "metadata": {
      "needs_background": "light"
     },
     "output_type": "display_data"
    }
   ],
   "source": [
    "gb_y_pred = gb.predict(X_test)\n",
    "gb_cm = metrics.confusion_matrix(gb_y_pred, y_test, [1,0])\n",
    "sns.heatmap(gb_cm, annot=True, fmt='.2f',xticklabels = [\"Left\", \"Stayed\"] , yticklabels = [\"Left\", \"Stayed\"] )\n",
    "plt.ylabel('True class')\n",
    "plt.xlabel('Predicted class')\n",
    "plt.title('Gradient Boosting Classifier')\n",
    "plt.ylim([0,2]) # To plot heatmap appropiratly, if your heatmap plot propely then comment this line\n",
    "plt.savefig('Gradient Boosting Classifier')"
   ]
  },
  {
   "cell_type": "markdown",
   "metadata": {
    "id": "dvEAqNqHYu28"
   },
   "source": [
    "## Applying Neural Network for Classification Problem"
   ]
  },
  {
   "cell_type": "code",
   "execution_count": 48,
   "metadata": {
    "id": "OYHi_dgq-YMr"
   },
   "outputs": [
    {
     "name": "stderr",
     "output_type": "stream",
     "text": [
      "Using TensorFlow backend.\n"
     ]
    }
   ],
   "source": [
    "#Calling and importing the libraries to fit the Sequential Neural Network model\n",
    "from keras.models import Sequential\n",
    "from keras.layers import Dense\n",
    "from keras.optimizers import Adam,SGD"
   ]
  },
  {
   "cell_type": "code",
   "execution_count": 49,
   "metadata": {
    "colab": {
     "base_uri": "https://localhost:8080/"
    },
    "id": "18tLP1gdTVVj",
    "outputId": "6dad6785-2129-4097-d221-a030ab60ca05"
   },
   "outputs": [
    {
     "name": "stdout",
     "output_type": "stream",
     "text": [
      "Epoch 1/1\n",
      "10499/10499 [==============================] - 3s 293us/step - loss: 0.5405 - accuracy: 0.7565\n"
     ]
    },
    {
     "data": {
      "text/plain": [
       "<keras.callbacks.callbacks.History at 0x1a9a09d9c88>"
      ]
     },
     "execution_count": 49,
     "metadata": {},
     "output_type": "execute_result"
    }
   ],
   "source": [
    "#Fitting our model on our data\n",
    "model= Sequential()\n",
    "model.add(Dense(1,input_dim=10,activation='sigmoid'))\n",
    "model.compile(Adam(lr=0.5),'binary_crossentropy',metrics=['accuracy'])\n",
    "model.fit(X_train,y_train)"
   ]
  },
  {
   "cell_type": "code",
   "execution_count": 50,
   "metadata": {
    "colab": {
     "base_uri": "https://localhost:8080/"
    },
    "id": "UgtwwrJsM1D4",
    "outputId": "847a77fe-60ba-4e13-caf6-0d502a50d536"
   },
   "outputs": [
    {
     "name": "stdout",
     "output_type": "stream",
     "text": [
      "Model: \"sequential_1\"\n",
      "_________________________________________________________________\n",
      "Layer (type)                 Output Shape              Param #   \n",
      "=================================================================\n",
      "dense_1 (Dense)              (None, 1)                 11        \n",
      "=================================================================\n",
      "Total params: 11\n",
      "Trainable params: 11\n",
      "Non-trainable params: 0\n",
      "_________________________________________________________________\n"
     ]
    }
   ],
   "source": [
    "model.summary()"
   ]
  },
  {
   "cell_type": "code",
   "execution_count": 51,
   "metadata": {
    "colab": {
     "base_uri": "https://localhost:8080/"
    },
    "id": "-qiJwS1tQQOQ",
    "outputId": "52bc5932-d837-4346-abc5-d8d2e27bc9f8"
   },
   "outputs": [
    {
     "name": "stdout",
     "output_type": "stream",
     "text": [
      "Sequential Neural Network Test accuracy: 0.769\n"
     ]
    }
   ],
   "source": [
    "from sklearn.metrics import accuracy_score\n",
    "print('Sequential Neural Network Test accuracy: {:.3f}'.format(accuracy_score(y_test, model.predict_classes(X_test))))"
   ]
  },
  {
   "cell_type": "code",
   "execution_count": 52,
   "metadata": {
    "colab": {
     "base_uri": "https://localhost:8080/",
     "height": 295
    },
    "id": "bijbON9xTzr5",
    "outputId": "ce4b6951-0f07-47ff-f4a5-f0ebc540fa25"
   },
   "outputs": [
    {
     "data": {
      "image/png": "[encoded data removed]",
      "text/plain": [
       "<Figure size 432x288 with 2 Axes>"
      ]
     },
     "metadata": {
      "needs_background": "light"
     },
     "output_type": "display_data"
    }
   ],
   "source": [
    "model_y_pred = model.predict_classes(X_test)\n",
    "model_cm = metrics.confusion_matrix(model_y_pred, y_test)\n",
    "sns.heatmap(model_cm, annot=True, fmt='.2f',xticklabels = [\"Stayed\", \"Left\"] , yticklabels = [\"Stayed\", \"Left\"] )\n",
    "plt.ylabel('True class')\n",
    "plt.xlabel('Predicted class')\n",
    "plt.title('Sequential Neural Network')\n",
    "plt.ylim([0,2]) # To plot heatmap appropiratly, if your heatmap plot propely then comment this line\n",
    "plt.savefig('Sequential Neural Network')"
   ]
  },
  {
   "cell_type": "markdown",
   "metadata": {
    "id": "ndsg8Q1mOS41"
   },
   "source": [
    "## Model Selection\n",
    "\n",
    "###### As mentioned in our Project Proposal that we will perform 4 classifical model those are Logistic Regression, Random Forest, SVM (Support Vector Machine), and Gradient Boosting Classifier. So we have applied all those models. Apart from that we know that if we are doing classification problem then just accuracy is not just the parameter to evaluate our model there are certain other things we need to keep in our mind when we are working on classification model.\n",
    "\n",
    "###### That are precision, recall, confusion matrix, True Positive, False Positive, True Negative, False Negative.\n",
    "\n",
    "###### Now lets talk about our problem that is employee churn so here we have to more focus on True Positive and Flase Positive. To understand this in our problem True Positive are those employees who are leaving the company and our ML model predicts them correctly that they are leaving the company and Flase Positive are those employees who are going to leave the company but our model predicts that they will stay in our company. So we need to keep in mind before selecting any ML model from the above 4 models that which model has more precision that is which model has less false positive.\n",
    "\n",
    "###### By examining all the 4 model we realized that Random Forest wins the race in with high precision and accuracy. That with the score of 0.98 for precision for employees who are going to leave and test accuracy with 0.988.\n",
    "\n",
    "###### Hence we will select Ranfom Forest as the best model for the employee churn problem."
   ]
  },
  {
   "cell_type": "markdown",
   "metadata": {
    "id": "sgM5e_boYwED"
   },
   "source": [
    "## Cross Validation\n",
    "#### Cross-validation is one of the most important techniques for generalizing our model or restricting it from getting overfitting on our dataset.\n",
    "\n",
    "#### We will use Random Forset Classifer as our best model for Cross Validation.\n",
    "\n",
    "#### We are using 10 k-fold Cross-Validation to train our Random Forest model."
   ]
  },
  {
   "cell_type": "code",
   "execution_count": 53,
   "metadata": {
    "colab": {
     "base_uri": "https://localhost:8080/"
    },
    "id": "No3xhxRvYwBb",
    "outputId": "48f8a226-e340-4094-8249-cddd64412137"
   },
   "outputs": [
    {
     "name": "stdout",
     "output_type": "stream",
     "text": [
      "10-fold cross validation average accuracy: 0.986\n"
     ]
    }
   ],
   "source": [
    "from sklearn import model_selection\n",
    "from sklearn.model_selection import cross_val_score\n",
    "kfold = model_selection.KFold(n_splits=10, random_state=7)\n",
    "modelCV = RandomForestClassifier()\n",
    "scoring = 'accuracy'\n",
    "results = model_selection.cross_val_score(modelCV, X_train, y_train, cv=kfold, scoring=scoring)\n",
    "print(\"10-fold cross validation average accuracy: %.3f\" % (results.mean()))"
   ]
  },
  {
   "cell_type": "markdown",
   "metadata": {
    "id": "x7OtcrcuYv-Q"
   },
   "source": [
    "## The average accuracy remains very close to the Random Forest model accuracy; hence, we can conclude that the model generalizes well.\n",
    "\n",
    "#### Our average accuracy is remaining very close to the Random Forest model accuracy; hence, we can conclude that the model generalizing well.\n",
    "\n",
    "#### We have also beat our baseline average accuracy which was 0.977."
   ]
  },
  {
   "cell_type": "markdown",
   "metadata": {
    "id": "brgxyaiyYv7H"
   },
   "source": [
    "## The ROC Curve\n",
    "\n",
    "#### ROC and AUC curve will help us to evaluate which classification model is better to work it and will help us to understand in which model and at which threshold our model gives us the best recall or true positive rate with the less False positive rate.\n",
    "\n",
    "#### We will not consider SVC in ROC curve as ROC curve analysis does not use accuracy or error rate. An ROC curve plots sensitivity (y axis) versus 1-specificity (x axis) and SVC gives the probability of 0 or 1 in the output."
   ]
  },
  {
   "cell_type": "code",
   "execution_count": 54,
   "metadata": {
    "colab": {
     "base_uri": "https://localhost:8080/",
     "height": 295
    },
    "id": "Zzp4rfydYv32",
    "outputId": "d7b84496-8495-4161-f513-bd698ed1458a"
   },
   "outputs": [
    {
     "data": {
      "image/png": "[encoded data removed]",
      "text/plain": [
       "<Figure size 432x288 with 1 Axes>"
      ]
     },
     "metadata": {
      "needs_background": "light"
     },
     "output_type": "display_data"
    }
   ],
   "source": [
    "from sklearn.metrics import roc_auc_score\n",
    "from sklearn.metrics import roc_curve\n",
    "\n",
    "logit_roc_auc = roc_auc_score(y_test, logreg.predict(X_test))\n",
    "fpr, tpr, thresholds = roc_curve(y_test, logreg.predict_proba(X_test)[:,1])\n",
    "\n",
    "rf_roc_auc = roc_auc_score(y_test, rf.predict(X_test))\n",
    "rf_fpr, rf_tpr, rf_thresholds = roc_curve(y_test, rf.predict_proba(X_test)[:,1])\n",
    "\n",
    "gb_roc_auc = roc_auc_score(y_test, gb.predict(X_test))\n",
    "gb_fpr, gb_tpr, gb_thresholds = roc_curve(y_test, gb.predict_proba(X_test)[:,1])\n",
    "\n",
    "plt.figure()\n",
    "plt.plot(fpr, tpr, label='Logistic Regression (area = %0.2f)' % logit_roc_auc)\n",
    "plt.plot(rf_fpr, rf_tpr, label='Random Forest (area = %0.2f)' % rf_roc_auc)\n",
    "plt.plot(gb_fpr, gb_tpr, label='Gradient Boosting (area = %0.2f)' % gb_roc_auc)\n",
    "plt.plot([0, 1], [0, 1],'r--')\n",
    "plt.xlim([0.0, 1.0])\n",
    "plt.ylim([0.0, 1.05])\n",
    "plt.xlabel('False Positive Rate')\n",
    "plt.ylabel('True Positive Rate')\n",
    "plt.title('Receiver operating characteristic')\n",
    "plt.legend(loc=\"lower right\")\n",
    "plt.savefig('ROC')\n",
    "plt.show()"
   ]
  },
  {
   "cell_type": "markdown",
   "metadata": {
    "id": "CsIdDgOglLMJ"
   },
   "source": [
    "#### The Random Forest Classifier is the best model for this specific problem as Random Forest is far away from the dotted line which represents the ROC curve of a purely random classifier. A good classifer stays as far away from that line as possible that towards the top-left corner."
   ]
  },
  {
   "cell_type": "markdown",
   "metadata": {
    "id": "k9Q8G6fFYv0q"
   },
   "source": [
    "## Feature Importance for Random Forest Model\n",
    "\n",
    "#### We will perform feature importance as by applying feature importance we can understand that which feature is affecting employee churn the most. It can help HR manager to understand why employee is going to churn and can focus on keeping that employee and try to improve that area of their company."
   ]
  },
  {
   "cell_type": "markdown",
   "metadata": {
    "id": "v0XRI_8RYvug"
   },
   "source": [
    "#### The above results shows the importance of each feature in ascending order 'promotion_last_5years' being the least important and satisfaction_level being the most important feature to understand reason of employee churn."
   ]
  },
  {
   "cell_type": "code",
   "execution_count": 55,
   "metadata": {
    "colab": {
     "base_uri": "https://localhost:8080/"
    },
    "id": "4uSgpcrLYvxw",
    "outputId": "acd9e87d-b54c-46f7-ec96-0306e871a414"
   },
   "outputs": [
    {
     "name": "stdout",
     "output_type": "stream",
     "text": [
      "promotion_last_5years-0.16%\n",
      "Department_management-0.17%\n",
      "Department_RandD-0.23%\n",
      "Department_hr-0.27%\n",
      "Work_accident-1.09%\n",
      "salary_numeric-1.34%\n",
      "last_evaluation-15.96%\n",
      "number_project-18.33%\n",
      "time_spend_company-22.21%\n",
      "satisfaction_level-40.24%\n"
     ]
    }
   ],
   "source": [
    "#Appling Feature Importance\n",
    "feature_labels = np.array(['satisfaction_level', 'last_evaluation', 'number_project', 'time_spend_company', \n",
    "                           'Work_accident', 'promotion_last_5years', 'Department_RandD', \n",
    "                           'Department_hr', 'Department_management', 'salary_numeric'])\n",
    "importance = rf.feature_importances_\n",
    "feature_indexes_by_importance = importance.argsort()\n",
    "for index in feature_indexes_by_importance:\n",
    "    print('{}-{:.2f}%'.format(feature_labels[index], (importance[index] *100.0)))"
   ]
  }
 ],
 "metadata": {
  "colab": {
   "collapsed_sections": [],
   "name": "DAB300_Group_No_27_Project_Code_Final.ipynb",
   "provenance": []
  },
  "kernelspec": {
   "display_name": "Python 3",
   "language": "python",
   "name": "python3"
  },
  "language_info": {
   "codemirror_mode": {
    "name": "ipython",
    "version": 3
   },
   "file_extension": ".py",
   "mimetype": "text/x-python",
   "name": "python",
   "nbconvert_exporter": "python",
   "pygments_lexer": "ipython3",
   "version": "3.7.5"
  }
 },
 "nbformat": 4,
 "nbformat_minor": 1
}
